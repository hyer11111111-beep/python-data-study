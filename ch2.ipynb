{
 "cells": [
  {
   "cell_type": "markdown",
   "id": "28f7e346-d99d-4c1e-b3d7-2733621dfc40",
   "metadata": {},
   "source": [
    "### 판다스 (pandas)  \n",
    "데이터를 관리하기 위한 모듈로 , 시리즈와 데이터 프레임을 제공함  "
   ]
  },
  {
   "cell_type": "code",
   "execution_count": 2,
   "id": "969ffb13-104d-4a68-b4e1-4eb1fc582049",
   "metadata": {},
   "outputs": [],
   "source": [
    "# 모듈 불러오기\n",
    "# 넘파이 모듈을 np 라고 부른다\n",
    "import numpy as np\n",
    "# 판다스 모듈을 pd 라고 부른다\n",
    "import pandas as pd"
   ]
  },
  {
   "cell_type": "markdown",
   "id": "fabd9fbf-6b4e-4665-8da9-efaa5bb4257f",
   "metadata": {},
   "source": [
    "#### 4.1 시리즈 (series)  \n",
    "<small>\n",
    "데이터를 한줄로 담는 자료 구조<br>\n",
    "리스트와 다른 점 : 데이터에 이름표를 붙일 수 있다 (index)\n",
    "</small>"
   ]
  },
  {
   "cell_type": "markdown",
   "id": "550e8990-3de2-4fbb-8bef-8733638e5d01",
   "metadata": {},
   "source": [
    "시리즈 생성1"
   ]
  },
  {
   "cell_type": "code",
   "execution_count": 8,
   "id": "e00470e6-fc11-4a60-8360-b1c91822909f",
   "metadata": {},
   "outputs": [
    {
     "name": "stdout",
     "output_type": "stream",
     "text": [
      "0    1\n",
      "1    2\n",
      "2    3\n",
      "3    4\n",
      "dtype: int64\n"
     ]
    },
    {
     "data": {
      "text/plain": [
       "RangeIndex(start=0, stop=4, step=1)"
      ]
     },
     "execution_count": 8,
     "metadata": {},
     "output_type": "execute_result"
    }
   ],
   "source": [
    "# 시리즈 생성\n",
    "s = pd.Series([1,2,3,4])\n",
    "s\n",
    "print(s)\n",
    "# 인덱스가 자동으로 설정됨 (0~3)\n",
    "# 시리즈의 인덱스 확인\n",
    "s.index"
   ]
  },
  {
   "cell_type": "markdown",
   "id": "a431edcf-a102-4634-b11f-cf1693cd0fc9",
   "metadata": {},
   "source": [
    "시리즈 생성2"
   ]
  },
  {
   "cell_type": "code",
   "execution_count": 12,
   "id": "550c6ef0-bca3-4b77-ba1d-348cf9cebda6",
   "metadata": {},
   "outputs": [
    {
     "name": "stdout",
     "output_type": "stream",
     "text": [
      "a    1\n",
      "b    2\n",
      "c    3\n",
      "dtype: int64\n"
     ]
    },
    {
     "data": {
      "text/plain": [
       "Index(['a', 'b', 'c'], dtype='object')"
      ]
     },
     "execution_count": 12,
     "metadata": {},
     "output_type": "execute_result"
    }
   ],
   "source": [
    "# 인덱스를 직접 설정하여 시리즈 생성\n",
    "# pd.Series(값목록(list), 인덱스(list))\n",
    "s = pd.Series([1,2,3], index=['a','b','c'])\n",
    "s\n",
    "print(s)\n",
    "# 인덱스 확인\n",
    "s.index"
   ]
  },
  {
   "cell_type": "markdown",
   "id": "bb19303c-69b5-477e-a7ff-d3550c044504",
   "metadata": {},
   "source": [
    "# 시리즈에서 값 꺼내기  \n",
    "<small>\n",
    "값을 찾는 방법 : 인덱스의 이름과 위치<br>\n",
    "대괄호 [] : 인덱스 이름으로 값을 꺼냄<br>  \n",
    "loc 함수 : 인덱스 이름으로 값을 꺼냄<br>  \n",
    "iloc 함수 : 인데스 위치(번호)로 값을 꺼냄\n",
    "</small>"
   ]
  },
  {
   "cell_type": "code",
   "execution_count": 17,
   "id": "ffea9a7a-9030-4c85-b02d-5e162f241cfa",
   "metadata": {},
   "outputs": [
    {
     "name": "stdout",
     "output_type": "stream",
     "text": [
      "a    1\n",
      "b    2\n",
      "c    3\n",
      "dtype: int64\n"
     ]
    },
    {
     "data": {
      "text/plain": [
       "np.int64(3)"
      ]
     },
     "execution_count": 17,
     "metadata": {},
     "output_type": "execute_result"
    }
   ],
   "source": [
    "print(s)\n",
    "# 이 시리즈의 인덱스 이름 : a,b,c\n",
    "# 이 시리증의 인덱스 위치 : 0,1,2 (고민할 필요 x)\n",
    "# 인덱스 이름으로 숫자 1 꺼내기\n",
    "s.loc['a']\n",
    "# 인덱스 이름으로 숫자 2 꺼내기\n",
    "s['b']\n",
    "# 인덱스 위치로 숫자 3 꺼내기\n",
    "s.iloc[2]"
   ]
  },
  {
   "cell_type": "code",
   "execution_count": 22,
   "id": "fd1f0283-eb86-4ac5-ad83-40ef61da8233",
   "metadata": {},
   "outputs": [
    {
     "name": "stdout",
     "output_type": "stream",
     "text": [
      "a     0\n",
      "b     2\n",
      "c    99\n",
      "dtype: int64\n",
      "a     0\n",
      "b     2\n",
      "c    99\n",
      "dtype: int64\n",
      "a     0\n",
      "b     2\n",
      "c    99\n",
      "dtype: int64\n"
     ]
    }
   ],
   "source": [
    "print(s)\n",
    "# 1을 0으로 변경\n",
    "# 찾기-> 변경\n",
    "s.loc['a'] = 0\n",
    "print(s)\n",
    "# 3을 99로 변경\n",
    "s['c'] = 99\n",
    "print(s)"
   ]
  },
  {
   "cell_type": "markdown",
   "id": "5caedef6-00da-4b08-b2fd-f0496ad50129",
   "metadata": {},
   "source": [
    "### 4-2 데이터 프레임 (DataFrame)  \n",
    "표 형식의 2차원 데이터를 담기 위한 자료구조 \n",
    "\n",
    "데이터 프레임 생성 1"
   ]
  },
  {
   "cell_type": "code",
   "execution_count": 25,
   "id": "2023ca21-2793-4b4f-8fb5-628e3c73f2de",
   "metadata": {},
   "outputs": [
    {
     "data": {
      "text/html": [
       "<div>\n",
       "<style scoped>\n",
       "    .dataframe tbody tr th:only-of-type {\n",
       "        vertical-align: middle;\n",
       "    }\n",
       "\n",
       "    .dataframe tbody tr th {\n",
       "        vertical-align: top;\n",
       "    }\n",
       "\n",
       "    .dataframe thead th {\n",
       "        text-align: right;\n",
       "    }\n",
       "</style>\n",
       "<table border=\"1\" class=\"dataframe\">\n",
       "  <thead>\n",
       "    <tr style=\"text-align: right;\">\n",
       "      <th></th>\n",
       "      <th>city</th>\n",
       "      <th>pop</th>\n",
       "    </tr>\n",
       "  </thead>\n",
       "  <tbody>\n",
       "    <tr>\n",
       "      <th>0</th>\n",
       "      <td>서울</td>\n",
       "      <td>990</td>\n",
       "    </tr>\n",
       "    <tr>\n",
       "      <th>1</th>\n",
       "      <td>인천</td>\n",
       "      <td>240</td>\n",
       "    </tr>\n",
       "  </tbody>\n",
       "</table>\n",
       "</div>"
      ],
      "text/plain": [
       "   city   pop\n",
       "0     서울  990\n",
       "1     인천  240"
      ]
     },
     "execution_count": 25,
     "metadata": {},
     "output_type": "execute_result"
    }
   ],
   "source": [
    "# 도시별 인구 데이터를 담은 데이터 프레임 생성\n",
    "# 데이터 먼저 만들기 (dic)\n",
    "data = { \" city \" : [\"서울\",\"인천\"],\n",
    "       \"pop\" : [990,240]}\n",
    "# cit , pop 열 두개를 담음 데이터 프레임 생성\n",
    "df = pd.DataFrame(data)\n",
    "df"
   ]
  },
  {
   "cell_type": "code",
   "execution_count": 36,
   "id": "baddbf46-0d46-47f2-a56f-eb62b1c53e7c",
   "metadata": {},
   "outputs": [
    {
     "name": "stdout",
     "output_type": "stream",
     "text": [
      "RangeIndex(start=0, stop=3, step=1)\n"
     ]
    }
   ],
   "source": [
    "# pd.DateFrame(값,[인덱스],[컬럼])\n",
    "df = pd.DataFrame(data)\n",
    "df\n",
    "# 행열의 이름을 따로 설정하지 않으면 자동으로 생성됨\n",
    "print(df.columns) # 열 이름 : dix 의 key (city,pop)"
   ]
  },
  {
   "cell_type": "markdown",
   "id": "b9ef03e2-ad76-4fe2-a80c-65e7123da572",
   "metadata": {},
   "source": [
    "데이터 프레임 생성2"
   ]
  },
  {
   "cell_type": "code",
   "execution_count": 38,
   "id": "05d32876-28d5-47a7-8562-ef07176add42",
   "metadata": {},
   "outputs": [
    {
     "data": {
      "text/plain": [
       "Index(['국어', '영어', '수학'], dtype='object')"
      ]
     },
     "execution_count": 38,
     "metadata": {},
     "output_type": "execute_result"
    }
   ],
   "source": [
    "# 학생 성적 데이터 만들기\n",
    "# dic, list\n",
    "# 넘파이의 다차원 배열 사용하여 2차원 배열 생성\n",
    "data = np.array([[60,70,80],[70,80,90],[80,90,100]])\n",
    "# 성적 데이터를 담아서 데이터 프레임 생성\n",
    "# 이점수가 누구의 어떤 점수인지 알기 위해 , 이름표 붙이기\n",
    "# 행 이름 : 학생의 이름\n",
    "# 열 이름 : 과목명\n",
    "df = pd.DataFrame(data,\n",
    "                  index = ['둘리','또치','도우너'],\n",
    "                  columns = ['국어','영어','수학'])\n",
    "df\n",
    "# 행 인덱스\n",
    "df.index\n",
    "# 열 컬럼\n",
    "df.columns"
   ]
  },
  {
   "cell_type": "markdown",
   "id": "c864d2b0-4fbc-4b1a-9dab-3d840716a12d",
   "metadata": {},
   "source": [
    "#### 데이터 프레임에서 데이터 꺼내기  \n",
    "<small>\n",
    "    loc: 행열 이름으로 데이터를 꺼낸다<br>\n",
    "    iloc: 행열 위치로 데이터를 꺼낸다<br>\n",
    "    []: 행열 이름으로 데이터를 꺼낸다<br>\n",
    "    </small>"
   ]
  },
  {
   "cell_type": "code",
   "execution_count": 43,
   "id": "5422e3db-2d54-4f8c-b9a8-7267a2a0626a",
   "metadata": {},
   "outputs": [
    {
     "name": "stdout",
     "output_type": "stream",
     "text": [
      "     국어  영어   수학\n",
      "둘리   60  70   80\n",
      "또치   70  80   90\n",
      "도우너  80  90  100\n"
     ]
    },
    {
     "data": {
      "text/plain": [
       "np.int64(100)"
      ]
     },
     "execution_count": 43,
     "metadata": {},
     "output_type": "execute_result"
    }
   ],
   "source": [
    "print(df)\n",
    "#loc[행이름,열이름]\n",
    "df.loc[:,:] # 전체 데이터\n",
    "#둘리의 국어점수 꺼내기\n",
    "df.loc['둘리','국어']\n",
    "#도우너의 수학 점수\n",
    "df.loc['도우너','수학']"
   ]
  },
  {
   "cell_type": "code",
   "execution_count": 45,
   "id": "c55cf27c-1751-49ac-994b-3536c2730bee",
   "metadata": {},
   "outputs": [
    {
     "data": {
      "text/plain": [
       "둘리     70\n",
       "또치     80\n",
       "도우너    90\n",
       "Name: 영어, dtype: int64"
      ]
     },
     "execution_count": 45,
     "metadata": {},
     "output_type": "execute_result"
    }
   ],
   "source": [
    "# 프레임에서 [] 대괄호를 쓰면 열만 입력 가능 ! \n",
    "# [열이름]\n",
    "# 모든 학생의 국어 점수\n",
    "df ['국어']\n",
    "# 모든 학생의 영어 점수\n",
    "df ['영어']"
   ]
  },
  {
   "cell_type": "markdown",
   "id": "6e7b68f1-344b-40cd-b2c7-275bcc430326",
   "metadata": {},
   "source": [
    "#### 데이터 프레임에 새로운 열 추가"
   ]
  },
  {
   "cell_type": "code",
   "execution_count": 49,
   "id": "b532ee72-b48d-45b4-8eb1-f1254ad115ff",
   "metadata": {},
   "outputs": [
    {
     "data": {
      "text/html": [
       "<div>\n",
       "<style scoped>\n",
       "    .dataframe tbody tr th:only-of-type {\n",
       "        vertical-align: middle;\n",
       "    }\n",
       "\n",
       "    .dataframe tbody tr th {\n",
       "        vertical-align: top;\n",
       "    }\n",
       "\n",
       "    .dataframe thead th {\n",
       "        text-align: right;\n",
       "    }\n",
       "</style>\n",
       "<table border=\"1\" class=\"dataframe\">\n",
       "  <thead>\n",
       "    <tr style=\"text-align: right;\">\n",
       "      <th></th>\n",
       "      <th>국어</th>\n",
       "      <th>영어</th>\n",
       "      <th>미술</th>\n",
       "      <th>수학</th>\n",
       "      <th>과학</th>\n",
       "    </tr>\n",
       "  </thead>\n",
       "  <tbody>\n",
       "    <tr>\n",
       "      <th>둘리</th>\n",
       "      <td>60</td>\n",
       "      <td>70</td>\n",
       "      <td>70</td>\n",
       "      <td>80</td>\n",
       "      <td>60</td>\n",
       "    </tr>\n",
       "    <tr>\n",
       "      <th>또치</th>\n",
       "      <td>70</td>\n",
       "      <td>80</td>\n",
       "      <td>80</td>\n",
       "      <td>90</td>\n",
       "      <td>70</td>\n",
       "    </tr>\n",
       "    <tr>\n",
       "      <th>도우너</th>\n",
       "      <td>80</td>\n",
       "      <td>90</td>\n",
       "      <td>80</td>\n",
       "      <td>100</td>\n",
       "      <td>80</td>\n",
       "    </tr>\n",
       "  </tbody>\n",
       "</table>\n",
       "</div>"
      ],
      "text/plain": [
       "     국어  영어  미술   수학  과학\n",
       "둘리   60  70  70   80  60\n",
       "또치   70  80  80   90  70\n",
       "도우너  80  90  80  100  80"
      ]
     },
     "execution_count": 49,
     "metadata": {},
     "output_type": "execute_result"
    }
   ],
   "source": [
    "# 새로운 과목 추가\n",
    "# 새로운 열 = 리스트\n",
    "# 맨뒤에 추가됨\n",
    "df['과학'] = [60,70,80]\n",
    "df\n",
    "# 이번에는 2번째 위치에 '미술' 과목을 추가\n",
    "# insert(위치, 컬럼명, 값리스트)\n",
    "df.insert(2,'미술',[70,80,80])\n",
    "df"
   ]
  },
  {
   "cell_type": "markdown",
   "id": "253b8e24-2b04-4637-a98d-bd7f2966ee02",
   "metadata": {},
   "source": [
    "데이터 프레임에서 열 삭제  \n",
    "<small>\n",
    "    del : 원본에서 바로 삭제<br>\n",
    "    drop : 원본은 그대로 결과만 보여줌\n",
    "</small>"
   ]
  },
  {
   "cell_type": "code",
   "execution_count": 60,
   "id": "11de5bd6-d9dc-460c-b929-3e9fd9e8bcbc",
   "metadata": {},
   "outputs": [
    {
     "name": "stdout",
     "output_type": "stream",
     "text": [
      "     국어  영어  미술   수학\n",
      "둘리   60  70  70   80\n",
      "도우너  80  90  80  100\n"
     ]
    },
    {
     "data": {
      "text/html": [
       "<div>\n",
       "<style scoped>\n",
       "    .dataframe tbody tr th:only-of-type {\n",
       "        vertical-align: middle;\n",
       "    }\n",
       "\n",
       "    .dataframe tbody tr th {\n",
       "        vertical-align: top;\n",
       "    }\n",
       "\n",
       "    .dataframe thead th {\n",
       "        text-align: right;\n",
       "    }\n",
       "</style>\n",
       "<table border=\"1\" class=\"dataframe\">\n",
       "  <thead>\n",
       "    <tr style=\"text-align: right;\">\n",
       "      <th></th>\n",
       "      <th>국어</th>\n",
       "      <th>영어</th>\n",
       "      <th>미술</th>\n",
       "      <th>수학</th>\n",
       "    </tr>\n",
       "  </thead>\n",
       "  <tbody>\n",
       "    <tr>\n",
       "      <th>둘리</th>\n",
       "      <td>60</td>\n",
       "      <td>70</td>\n",
       "      <td>70</td>\n",
       "      <td>80</td>\n",
       "    </tr>\n",
       "    <tr>\n",
       "      <th>또치</th>\n",
       "      <td>70</td>\n",
       "      <td>80</td>\n",
       "      <td>80</td>\n",
       "      <td>90</td>\n",
       "    </tr>\n",
       "    <tr>\n",
       "      <th>도우너</th>\n",
       "      <td>80</td>\n",
       "      <td>90</td>\n",
       "      <td>80</td>\n",
       "      <td>100</td>\n",
       "    </tr>\n",
       "  </tbody>\n",
       "</table>\n",
       "</div>"
      ],
      "text/plain": [
       "     국어  영어  미술   수학\n",
       "둘리   60  70  70   80\n",
       "또치   70  80  80   90\n",
       "도우너  80  90  80  100"
      ]
     },
     "execution_count": 60,
     "metadata": {},
     "output_type": "execute_result"
    }
   ],
   "source": [
    "# 과학 과목 삭제\n",
    "# 선택 > 삭제\n",
    "# del df['과학']\n",
    "# 수학 과목 삭제\n",
    "# drop(형 또는 열의 이름 , 방향)# 결과를 반영하려면 , 교체\n",
    "\n",
    "# axis=1 또는 axis ='colunms'\n",
    "df.drop('수학',axis=1) # 엑시스(축,방향)\n",
    "# drop 은 원본에 영향이 없다 \n",
    "\n",
    "# 또치 학생 삭제 (행삭제)\n",
    "# axis = o 또는 axis='row'\n",
    "# drip\n",
    "result = df.drop('또치',axis= 0)\n",
    "print(result)\n",
    "df\n",
    "\n"
   ]
  },
  {
   "cell_type": "markdown",
   "id": "c8154d60-5d93-487c-b527-d70ca33d31ad",
   "metadata": {},
   "source": [
    "#### 4.3 데이터 계산과 처리"
   ]
  },
  {
   "cell_type": "markdown",
   "id": "ef687e29-ec69-4d2d-9be4-a02e304c5fa2",
   "metadata": {},
   "source": [
    "시리즈에서 계산과 조건 검색"
   ]
  },
  {
   "cell_type": "code",
   "execution_count": 63,
   "id": "0fe3cced-ec43-4ccb-8d80-af94beac8d51",
   "metadata": {},
   "outputs": [
    {
     "name": "stdout",
     "output_type": "stream",
     "text": [
      "-1\n",
      "0\n",
      "1\n",
      "2\n",
      "3\n"
     ]
    }
   ],
   "source": [
    "# 숫자가 담긴 리스트 생성\n",
    "lis = [-2,-1,0,1,2]\n",
    "# 모든 원소에 1만큼 더하기\n",
    "for i in lis:\n",
    "    print(i+1)"
   ]
  },
  {
   "cell_type": "code",
   "execution_count": 65,
   "id": "345b0c37-6c22-4a22-9a38-2fb76ca5d5fa",
   "metadata": {},
   "outputs": [
    {
     "data": {
      "text/plain": [
       "0   -1\n",
       "1    0\n",
       "2    1\n",
       "3    2\n",
       "4    3\n",
       "dtype: int64"
      ]
     },
     "execution_count": 65,
     "metadata": {},
     "output_type": "execute_result"
    }
   ],
   "source": [
    "# 숫자가 담긴 시리즈 생성\n",
    "s = pd.Series ([-2,-1,0,1,2])\n",
    "# 모든 원소에 1만큼 더하기\n",
    "# 판다스의 시리즈는 for 없이 반복 수행 가능\n",
    "# 아래 계산식은 자동으로 6번 반복 수행\n",
    "# s + 1\n",
    "s.add(1)"
   ]
  },
  {
   "cell_type": "code",
   "execution_count": 68,
   "id": "189b7b1d-f543-45bd-bfe3-264ada6cd376",
   "metadata": {},
   "outputs": [
    {
     "data": {
      "text/plain": [
       "3    1\n",
       "4    2\n",
       "dtype: int64"
      ]
     },
     "execution_count": 68,
     "metadata": {},
     "output_type": "execute_result"
    }
   ],
   "source": [
    "s\n",
    "# 조건 검색 (양수만 찾기)\n",
    "# 불리언 배열 만들기\n",
    "# 시리즈 >  int -> 시리즈 전체 데이터와 0을 비교\n",
    "s > 0\n",
    "# 불리언 배열은 시리즈의 인덱스로 사용할 수 있다\n",
    "s[s>0]"
   ]
  },
  {
   "cell_type": "code",
   "execution_count": 73,
   "id": "92f75602-5130-451d-b507-50a7ff39826e",
   "metadata": {},
   "outputs": [
    {
     "data": {
      "text/plain": [
       "1     2\n",
       "3     4\n",
       "5     6\n",
       "7     8\n",
       "9    10\n",
       "dtype: int64"
      ]
     },
     "execution_count": 73,
     "metadata": {},
     "output_type": "execute_result"
    }
   ],
   "source": [
    "# 조건검색2 (짝수만 찾기)\n",
    "s = pd.Series(np.arange(1,11))\n",
    "s\n",
    "# 시리즈 전체 데이터에 계산식이 적용됨 -> bool 10개 반환\n",
    "s % 2\n",
    "# bool 배열을 시리지의 인덱스로 사용\n",
    "s[s % 2 == 0]"
   ]
  },
  {
   "cell_type": "code",
   "execution_count": 92,
   "id": "0079d622-ee52-4d7d-b187-3983233fbba3",
   "metadata": {},
   "outputs": [
    {
     "data": {
      "text/html": [
       "<div>\n",
       "<style scoped>\n",
       "    .dataframe tbody tr th:only-of-type {\n",
       "        vertical-align: middle;\n",
       "    }\n",
       "\n",
       "    .dataframe tbody tr th {\n",
       "        vertical-align: top;\n",
       "    }\n",
       "\n",
       "    .dataframe thead th {\n",
       "        text-align: right;\n",
       "    }\n",
       "</style>\n",
       "<table border=\"1\" class=\"dataframe\">\n",
       "  <thead>\n",
       "    <tr style=\"text-align: right;\">\n",
       "      <th></th>\n",
       "      <th>국어</th>\n",
       "      <th>영어</th>\n",
       "      <th>수학</th>\n",
       "    </tr>\n",
       "  </thead>\n",
       "  <tbody>\n",
       "    <tr>\n",
       "      <th>둘리</th>\n",
       "      <td>60</td>\n",
       "      <td>70</td>\n",
       "      <td>80</td>\n",
       "    </tr>\n",
       "    <tr>\n",
       "      <th>또치</th>\n",
       "      <td>70</td>\n",
       "      <td>80</td>\n",
       "      <td>90</td>\n",
       "    </tr>\n",
       "    <tr>\n",
       "      <th>도우너</th>\n",
       "      <td>80</td>\n",
       "      <td>90</td>\n",
       "      <td>100</td>\n",
       "    </tr>\n",
       "  </tbody>\n",
       "</table>\n",
       "</div>"
      ],
      "text/plain": [
       "     국어  영어   수학\n",
       "둘리   60  70   80\n",
       "또치   70  80   90\n",
       "도우너  80  90  100"
      ]
     },
     "execution_count": 92,
     "metadata": {},
     "output_type": "execute_result"
    }
   ],
   "source": [
    "# 학생성적 데이터 만들기\n",
    "data = np.array ([[60,70,80,],[70,80,90,],[80,90,100]])\n",
    "# 성적 프레임\n",
    "df = pd.DataFrame(data,\n",
    "                  index=['둘리','또치','도우너'],\n",
    "                  columns=['국어','영어','수학'])\n",
    "df"
   ]
  },
  {
   "cell_type": "code",
   "execution_count": 80,
   "id": "4afaf5c1-ec23-4998-bdf0-14df78b79630",
   "metadata": {},
   "outputs": [
    {
     "data": {
      "text/plain": [
       "pandas.core.series.Series"
      ]
     },
     "execution_count": 80,
     "metadata": {},
     "output_type": "execute_result"
    }
   ],
   "source": [
    "# 국어 과목만 조회\n",
    "df['국어']\n",
    "# 국어과목에 담겨있는 값의 자료형\n",
    "df['국어'].dtype\n",
    "# 국어과목의 자료구조\n",
    "type(df['국어'])\n",
    "# 데이터프레임은 여러시리즈의 묶음"
   ]
  },
  {
   "cell_type": "code",
   "execution_count": 83,
   "id": "c817cfb0-b4d3-40be-90b5-451b324b3940",
   "metadata": {},
   "outputs": [
    {
     "data": {
      "text/plain": [
       "둘리     100\n",
       "또치      80\n",
       "도우너     90\n",
       "Name: 국어, dtype: int64"
      ]
     },
     "execution_count": 83,
     "metadata": {},
     "output_type": "execute_result"
    }
   ],
   "source": [
    "# 전체 점수에 1점씩 더하기\n",
    "# 데이터 프레임 전체 데이터에 더하기가 적용됨\n",
    "df + 1\n",
    "# 국어점수만 10점씩 더하기\n",
    "df['국어']+10"
   ]
  },
  {
   "cell_type": "code",
   "execution_count": 86,
   "id": "abce6b90-1115-4e3f-a6cd-9e5d8c5d6aa6",
   "metadata": {},
   "outputs": [
    {
     "data": {
      "text/html": [
       "<div>\n",
       "<style scoped>\n",
       "    .dataframe tbody tr th:only-of-type {\n",
       "        vertical-align: middle;\n",
       "    }\n",
       "\n",
       "    .dataframe tbody tr th {\n",
       "        vertical-align: top;\n",
       "    }\n",
       "\n",
       "    .dataframe thead th {\n",
       "        text-align: right;\n",
       "    }\n",
       "</style>\n",
       "<table border=\"1\" class=\"dataframe\">\n",
       "  <thead>\n",
       "    <tr style=\"text-align: right;\">\n",
       "      <th></th>\n",
       "      <th>국어</th>\n",
       "      <th>영어</th>\n",
       "      <th>수학</th>\n",
       "    </tr>\n",
       "  </thead>\n",
       "  <tbody>\n",
       "    <tr>\n",
       "      <th>둘리</th>\n",
       "      <td>90</td>\n",
       "      <td>70</td>\n",
       "      <td>80</td>\n",
       "    </tr>\n",
       "    <tr>\n",
       "      <th>또치</th>\n",
       "      <td>70</td>\n",
       "      <td>80</td>\n",
       "      <td>90</td>\n",
       "    </tr>\n",
       "    <tr>\n",
       "      <th>도우너</th>\n",
       "      <td>80</td>\n",
       "      <td>90</td>\n",
       "      <td>10</td>\n",
       "    </tr>\n",
       "  </tbody>\n",
       "</table>\n",
       "</div>"
      ],
      "text/plain": [
       "     국어  영어  수학\n",
       "둘리   90  70  80\n",
       "또치   70  80  90\n",
       "도우너  80  90  10"
      ]
     },
     "execution_count": 86,
     "metadata": {},
     "output_type": "execute_result"
    }
   ],
   "source": [
    "# 조건 검색 ( 국어점수가 70점 이상인 학생만 찾기)\n",
    "df['국어'] >= 70\n",
    "# 프레임이 bool 배열을 인덱스로 사용\n",
    "df[df['국어']>=70]"
   ]
  },
  {
   "cell_type": "markdown",
   "id": "231cd796-942f-4d3f-9980-c0b204b764ad",
   "metadata": {},
   "source": [
    "#### 데이터프레임의 정렬\n",
    "<small>\n",
    "시험 성적 순위를 매길때 사용<br>\n",
    "</small>"
   ]
  },
  {
   "cell_type": "code",
   "execution_count": 94,
   "id": "06fd0225-15cd-4cee-8924-c0287e00dbdf",
   "metadata": {},
   "outputs": [
    {
     "data": {
      "text/html": [
       "<div>\n",
       "<style scoped>\n",
       "    .dataframe tbody tr th:only-of-type {\n",
       "        vertical-align: middle;\n",
       "    }\n",
       "\n",
       "    .dataframe tbody tr th {\n",
       "        vertical-align: top;\n",
       "    }\n",
       "\n",
       "    .dataframe thead th {\n",
       "        text-align: right;\n",
       "    }\n",
       "</style>\n",
       "<table border=\"1\" class=\"dataframe\">\n",
       "  <thead>\n",
       "    <tr style=\"text-align: right;\">\n",
       "      <th></th>\n",
       "      <th>국어</th>\n",
       "      <th>영어</th>\n",
       "      <th>수학</th>\n",
       "    </tr>\n",
       "  </thead>\n",
       "  <tbody>\n",
       "    <tr>\n",
       "      <th>도우너</th>\n",
       "      <td>80</td>\n",
       "      <td>90</td>\n",
       "      <td>100</td>\n",
       "    </tr>\n",
       "    <tr>\n",
       "      <th>또치</th>\n",
       "      <td>70</td>\n",
       "      <td>80</td>\n",
       "      <td>90</td>\n",
       "    </tr>\n",
       "    <tr>\n",
       "      <th>둘리</th>\n",
       "      <td>60</td>\n",
       "      <td>70</td>\n",
       "      <td>80</td>\n",
       "    </tr>\n",
       "  </tbody>\n",
       "</table>\n",
       "</div>"
      ],
      "text/plain": [
       "     국어  영어   수학\n",
       "도우너  80  90  100\n",
       "또치   70  80   90\n",
       "둘리   60  70   80"
      ]
     },
     "execution_count": 94,
     "metadata": {},
     "output_type": "execute_result"
    }
   ],
   "source": [
    "# 시험 성적에서 국어 점수를 기준으로 정렬\n",
    "df.sort_values('국어')\n",
    "# 국어 점수를 기준으로 내림차순 정렬\n",
    "# 정렬 기준 : 오름차순 / 내림차순\n",
    "# ascending: 오름차순 (True) 내림차순(Fales)\n",
    "df.sort_values('국어',ascending=False)"
   ]
  },
  {
   "cell_type": "code",
   "execution_count": 101,
   "id": "d8e3e304-cd76-4f58-9900-d706ef3dc60f",
   "metadata": {},
   "outputs": [
    {
     "name": "stdout",
     "output_type": "stream",
     "text": [
      "     수학  영어  과학\n",
      "둘리   88  91  84\n",
      "또치   66  65  82\n",
      "도우너  85  98  92\n"
     ]
    },
    {
     "data": {
      "text/html": [
       "<div>\n",
       "<style scoped>\n",
       "    .dataframe tbody tr th:only-of-type {\n",
       "        vertical-align: middle;\n",
       "    }\n",
       "\n",
       "    .dataframe tbody tr th {\n",
       "        vertical-align: top;\n",
       "    }\n",
       "\n",
       "    .dataframe thead th {\n",
       "        text-align: right;\n",
       "    }\n",
       "</style>\n",
       "<table border=\"1\" class=\"dataframe\">\n",
       "  <thead>\n",
       "    <tr style=\"text-align: right;\">\n",
       "      <th></th>\n",
       "      <th>수학</th>\n",
       "      <th>영어</th>\n",
       "      <th>과학</th>\n",
       "    </tr>\n",
       "  </thead>\n",
       "  <tbody>\n",
       "    <tr>\n",
       "      <th>도우너</th>\n",
       "      <td>85</td>\n",
       "      <td>98</td>\n",
       "      <td>92</td>\n",
       "    </tr>\n",
       "    <tr>\n",
       "      <th>둘리</th>\n",
       "      <td>88</td>\n",
       "      <td>91</td>\n",
       "      <td>84</td>\n",
       "    </tr>\n",
       "    <tr>\n",
       "      <th>또치</th>\n",
       "      <td>66</td>\n",
       "      <td>65</td>\n",
       "      <td>82</td>\n",
       "    </tr>\n",
       "  </tbody>\n",
       "</table>\n",
       "</div>"
      ],
      "text/plain": [
       "     수학  영어  과학\n",
       "도우너  85  98  92\n",
       "둘리   88  91  84\n",
       "또치   66  65  82"
      ]
     },
     "execution_count": 101,
     "metadata": {},
     "output_type": "execute_result"
    }
   ],
   "source": [
    "# 랜덤 함수로 시험 점수 생성\n",
    "# 범위 : 60점~100점\n",
    "# 개수: 9개\n",
    "data = np.random.randint(60,100,9)\n",
    "# 3행 3열의 크기의 2차원 배열로 변환\n",
    "arr = data.reshape(3,3)\n",
    "arr\n",
    "# 프레임 생성\n",
    "df = pd.DataFrame(arr,index=['둘리','또치','도우너'],\n",
    "                  columns=['수학','영어','과학'])\n",
    "print(df)\n",
    "# 영어 점수가 높은 사람 순으로 정렬 (내림차순)\n",
    "df.sort_values('영어',ascending=False)"
   ]
  },
  {
   "cell_type": "markdown",
   "id": "4156f6a3-bc18-4fba-abe0-df6890a581b4",
   "metadata": {},
   "source": [
    "nan 처리  \n",
    "<small>\n",
    "    누락된값 , 빈값<br>\n",
    "    예들 들어 엑셀에서 빈셀을 표현할 때 사용<br>\n",
    "    nan 은 float 타입에서만 표현 가능\n",
    "    </small>"
   ]
  },
  {
   "cell_type": "code",
   "execution_count": 102,
   "id": "7f7b05a5-95e8-49e9-bc84-9399c274e17e",
   "metadata": {},
   "outputs": [
    {
     "data": {
      "text/html": [
       "<div>\n",
       "<style scoped>\n",
       "    .dataframe tbody tr th:only-of-type {\n",
       "        vertical-align: middle;\n",
       "    }\n",
       "\n",
       "    .dataframe tbody tr th {\n",
       "        vertical-align: top;\n",
       "    }\n",
       "\n",
       "    .dataframe thead th {\n",
       "        text-align: right;\n",
       "    }\n",
       "</style>\n",
       "<table border=\"1\" class=\"dataframe\">\n",
       "  <thead>\n",
       "    <tr style=\"text-align: right;\">\n",
       "      <th></th>\n",
       "      <th>수학</th>\n",
       "      <th>영어</th>\n",
       "      <th>과학</th>\n",
       "    </tr>\n",
       "  </thead>\n",
       "  <tbody>\n",
       "    <tr>\n",
       "      <th>둘리</th>\n",
       "      <td>88</td>\n",
       "      <td>91</td>\n",
       "      <td>84</td>\n",
       "    </tr>\n",
       "    <tr>\n",
       "      <th>또치</th>\n",
       "      <td>66</td>\n",
       "      <td>65</td>\n",
       "      <td>82</td>\n",
       "    </tr>\n",
       "    <tr>\n",
       "      <th>도우너</th>\n",
       "      <td>85</td>\n",
       "      <td>98</td>\n",
       "      <td>92</td>\n",
       "    </tr>\n",
       "  </tbody>\n",
       "</table>\n",
       "</div>"
      ],
      "text/plain": [
       "     수학  영어  과학\n",
       "둘리   88  91  84\n",
       "또치   66  65  82\n",
       "도우너  85  98  92"
      ]
     },
     "execution_count": 102,
     "metadata": {},
     "output_type": "execute_result"
    }
   ],
   "source": [
    "df"
   ]
  },
  {
   "cell_type": "code",
   "execution_count": 106,
   "id": "185bd73b-fddb-42cc-96fe-f31211199cb5",
   "metadata": {},
   "outputs": [],
   "source": [
    "# 둘리의 영어점수를 반값(nan)으로 표시\n",
    "# 빈값을 넣으면 해당값이 들어간 열이 float 타입으로 자동 형변환됨\n",
    "#df.loc['둘리','영어'] = np.nan\n"
   ]
  },
  {
   "cell_type": "code",
   "execution_count": 108,
   "id": "83bbb0b0-3648-49d5-bbb6-0a2faea127af",
   "metadata": {},
   "outputs": [
    {
     "data": {
      "text/html": [
       "<div>\n",
       "<style scoped>\n",
       "    .dataframe tbody tr th:only-of-type {\n",
       "        vertical-align: middle;\n",
       "    }\n",
       "\n",
       "    .dataframe tbody tr th {\n",
       "        vertical-align: top;\n",
       "    }\n",
       "\n",
       "    .dataframe thead th {\n",
       "        text-align: right;\n",
       "    }\n",
       "</style>\n",
       "<table border=\"1\" class=\"dataframe\">\n",
       "  <thead>\n",
       "    <tr style=\"text-align: right;\">\n",
       "      <th></th>\n",
       "      <th>수학</th>\n",
       "      <th>영어</th>\n",
       "      <th>과학</th>\n",
       "    </tr>\n",
       "  </thead>\n",
       "  <tbody>\n",
       "    <tr>\n",
       "      <th>둘리</th>\n",
       "      <td>88</td>\n",
       "      <td>NaN</td>\n",
       "      <td>84</td>\n",
       "    </tr>\n",
       "    <tr>\n",
       "      <th>또치</th>\n",
       "      <td>66</td>\n",
       "      <td>65.0</td>\n",
       "      <td>82</td>\n",
       "    </tr>\n",
       "    <tr>\n",
       "      <th>도우너</th>\n",
       "      <td>85</td>\n",
       "      <td>98.0</td>\n",
       "      <td>92</td>\n",
       "    </tr>\n",
       "  </tbody>\n",
       "</table>\n",
       "</div>"
      ],
      "text/plain": [
       "     수학    영어  과학\n",
       "둘리   88   NaN  84\n",
       "또치   66  65.0  82\n",
       "도우너  85  98.0  92"
      ]
     },
     "execution_count": 108,
     "metadata": {},
     "output_type": "execute_result"
    }
   ],
   "source": [
    "# 빈값이 있는 행 또는 열 삭제\n",
    "# 엑시스 0 'row' => 행\n",
    "df.dropna(axis=0)\n",
    "df"
   ]
  },
  {
   "cell_type": "code",
   "execution_count": 110,
   "id": "82ba1f11-823a-4e46-b855-1a561cf3b276",
   "metadata": {},
   "outputs": [
    {
     "data": {
      "text/html": [
       "<div>\n",
       "<style scoped>\n",
       "    .dataframe tbody tr th:only-of-type {\n",
       "        vertical-align: middle;\n",
       "    }\n",
       "\n",
       "    .dataframe tbody tr th {\n",
       "        vertical-align: top;\n",
       "    }\n",
       "\n",
       "    .dataframe thead th {\n",
       "        text-align: right;\n",
       "    }\n",
       "</style>\n",
       "<table border=\"1\" class=\"dataframe\">\n",
       "  <thead>\n",
       "    <tr style=\"text-align: right;\">\n",
       "      <th></th>\n",
       "      <th>수학</th>\n",
       "      <th>영어</th>\n",
       "      <th>과학</th>\n",
       "    </tr>\n",
       "  </thead>\n",
       "  <tbody>\n",
       "    <tr>\n",
       "      <th>둘리</th>\n",
       "      <td>88</td>\n",
       "      <td>NaN</td>\n",
       "      <td>84.0</td>\n",
       "    </tr>\n",
       "    <tr>\n",
       "      <th>또치</th>\n",
       "      <td>66</td>\n",
       "      <td>65.0</td>\n",
       "      <td>NaN</td>\n",
       "    </tr>\n",
       "    <tr>\n",
       "      <th>도우너</th>\n",
       "      <td>85</td>\n",
       "      <td>98.0</td>\n",
       "      <td>92.0</td>\n",
       "    </tr>\n",
       "  </tbody>\n",
       "</table>\n",
       "</div>"
      ],
      "text/plain": [
       "     수학    영어    과학\n",
       "둘리   88   NaN  84.0\n",
       "또치   66  65.0   NaN\n",
       "도우너  85  98.0  92.0"
      ]
     },
     "execution_count": 110,
     "metadata": {},
     "output_type": "execute_result"
    }
   ],
   "source": [
    "# 또치의 과학 점수를 빈값으로 설정\n",
    "df.loc['또치','과학'] =np.nan\n",
    "df"
   ]
  },
  {
   "cell_type": "code",
   "execution_count": 111,
   "id": "564b7a4a-f241-43e8-96c7-f3929ca90119",
   "metadata": {},
   "outputs": [
    {
     "data": {
      "text/html": [
       "<div>\n",
       "<style scoped>\n",
       "    .dataframe tbody tr th:only-of-type {\n",
       "        vertical-align: middle;\n",
       "    }\n",
       "\n",
       "    .dataframe tbody tr th {\n",
       "        vertical-align: top;\n",
       "    }\n",
       "\n",
       "    .dataframe thead th {\n",
       "        text-align: right;\n",
       "    }\n",
       "</style>\n",
       "<table border=\"1\" class=\"dataframe\">\n",
       "  <thead>\n",
       "    <tr style=\"text-align: right;\">\n",
       "      <th></th>\n",
       "      <th>수학</th>\n",
       "      <th>영어</th>\n",
       "      <th>과학</th>\n",
       "    </tr>\n",
       "  </thead>\n",
       "  <tbody>\n",
       "    <tr>\n",
       "      <th>둘리</th>\n",
       "      <td>88</td>\n",
       "      <td>0.0</td>\n",
       "      <td>84.0</td>\n",
       "    </tr>\n",
       "    <tr>\n",
       "      <th>또치</th>\n",
       "      <td>66</td>\n",
       "      <td>65.0</td>\n",
       "      <td>0.0</td>\n",
       "    </tr>\n",
       "    <tr>\n",
       "      <th>도우너</th>\n",
       "      <td>85</td>\n",
       "      <td>98.0</td>\n",
       "      <td>92.0</td>\n",
       "    </tr>\n",
       "  </tbody>\n",
       "</table>\n",
       "</div>"
      ],
      "text/plain": [
       "     수학    영어    과학\n",
       "둘리   88   0.0  84.0\n",
       "또치   66  65.0   0.0\n",
       "도우너  85  98.0  92.0"
      ]
     },
     "execution_count": 111,
     "metadata": {},
     "output_type": "execute_result"
    }
   ],
   "source": [
    "# 비어있는 점수를 모두 0으로 설정\n",
    "df.fillna(0)"
   ]
  },
  {
   "cell_type": "markdown",
   "id": "5840ed2c-dfce-4004-9a1c-60c822403b0c",
   "metadata": {},
   "source": [
    "#### 4.4 데이터 검색  \n",
    "<small>\n",
    "    데이터의 상태나 특징을 파악하는 작업\n",
    "</small>"
   ]
  },
  {
   "cell_type": "code",
   "execution_count": 3,
   "id": "89395595-c992-475a-8ed4-60b56b1f5c62",
   "metadata": {},
   "outputs": [
    {
     "data": {
      "text/plain": [
       "0     사과\n",
       "1      배\n",
       "2     사과\n",
       "3      배\n",
       "4    바나나\n",
       "dtype: object"
      ]
     },
     "execution_count": 3,
     "metadata": {},
     "output_type": "execute_result"
    }
   ],
   "source": [
    "# 과일 목록을 담은 시리즈 생성\n",
    "# 시리즈 : 인덱스를 가지고 있는 한줄짜리 데이터\n",
    "s = pd.Series(['사과','배','사과','배','바나나'])\n",
    "s"
   ]
  },
  {
   "cell_type": "code",
   "execution_count": 4,
   "id": "58d46bdd-7560-452b-a110-90f160d428fb",
   "metadata": {},
   "outputs": [
    {
     "data": {
      "text/plain": [
       "array(['사과', '배', '바나나'], dtype=object)"
      ]
     },
     "execution_count": 4,
     "metadata": {},
     "output_type": "execute_result"
    }
   ],
   "source": [
    "# 중복을 제거하고 유니크한 값만 남기기\n",
    "s.unique()"
   ]
  },
  {
   "cell_type": "code",
   "execution_count": 5,
   "id": "7d449a95-97f3-413e-b879-2abffad24f84",
   "metadata": {},
   "outputs": [
    {
     "data": {
      "text/plain": [
       "사과     2\n",
       "배      2\n",
       "바나나    1\n",
       "Name: count, dtype: int64"
      ]
     },
     "execution_count": 5,
     "metadata": {},
     "output_type": "execute_result"
    }
   ],
   "source": [
    "# 원소별 개수 세기\n",
    "s.value_counts()"
   ]
  },
  {
   "cell_type": "code",
   "execution_count": null,
   "id": "d629845d-0d9a-4f0e-a3f0-af1a006a7441",
   "metadata": {},
   "outputs": [],
   "source": []
  }
 ],
 "metadata": {
  "kernelspec": {
   "display_name": "Python 3 (ipykernel)",
   "language": "python",
   "name": "python3"
  },
  "language_info": {
   "codemirror_mode": {
    "name": "ipython",
    "version": 3
   },
   "file_extension": ".py",
   "mimetype": "text/x-python",
   "name": "python",
   "nbconvert_exporter": "python",
   "pygments_lexer": "ipython3",
   "version": "3.10.18"
  }
 },
 "nbformat": 4,
 "nbformat_minor": 5
}
