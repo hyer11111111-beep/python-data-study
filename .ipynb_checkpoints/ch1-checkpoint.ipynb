{
 "cells": [
  {
   "cell_type": "markdown",
   "id": "bf1b4332-5b59-41e4-9dee-c43f4dc2f74c",
   "metadata": {},
   "source": [
    "## 3. 넘파이\n",
    "markdown에서 줄바꿈을 할때는 스페이스 두번  \n",
    "markdown에서 제목을 표시할때는 # 기호를 사용함  \n",
    "#개수에 따라 글자 크기가 달라짐  \n",
    "중요할수록 # 개수가 적음\n",
    "\n",
    "넘파이란 ? 다차원 배열과 수학 함수를 제공하는 모듈(라이브러리)  "
   ]
  },
  {
   "cell_type": "markdown",
   "id": "37fbf114-7667-447a-8ab6-d38a705f2450",
   "metadata": {},
   "source": [
    "3.1 ndarry  \n",
    "다차원 배열  \n",
    "다차원 배열의 특징 :   \n",
    "1. 리스트와 비교했을때 계산 속도가 빠름  \n",
    "2. 리스트와 달리 모든 요소의 타입이 같음  \n"
   ]
  },
  {
   "cell_type": "code",
   "execution_count": 10,
   "id": "7e80973a-d02d-474f-b3bf-68ab8056f991",
   "metadata": {},
   "outputs": [],
   "source": [
    "# 먼저 numpy 모듈 가져오기\n",
    "# 외부에 있는 모듈 파일을 가지고 올때는 imprort\n",
    "# 모듈의 이름이 길때는 별칭 붙이기 as np\n",
    "import numpy as np"
   ]
  },
  {
   "cell_type": "code",
   "execution_count": 12,
   "id": "fd759269-dfb0-49ed-92c5-8d8e59c7ff65",
   "metadata": {},
   "outputs": [
    {
     "data": {
      "text/plain": [
       "array(['a', 'b', 'c'], dtype='<U1')"
      ]
     },
     "execution_count": 12,
     "metadata": {},
     "output_type": "execute_result"
    }
   ],
   "source": [
    "# 넘파이 배열 만들기\n",
    "# 입력값 : 리스트\n",
    "# 결과 : 넘파이 배열\n",
    "a = np.array([1,2,3])\n",
    "a\n",
    "b = np.array(['a','b','c'])\n",
    "b"
   ]
  },
  {
   "cell_type": "code",
   "execution_count": 18,
   "id": "c185b2b1-d257-4922-96ed-b2c396934149",
   "metadata": {},
   "outputs": [
    {
     "data": {
      "text/plain": [
       "array([[1, 2, 3],\n",
       "       [4, 5, 6],\n",
       "       [7, 8, 9]])"
      ]
     },
     "execution_count": 18,
     "metadata": {},
     "output_type": "execute_result"
    }
   ],
   "source": [
    "# 2차원 배열 생성\n",
    "c = np.array(([1,2,3], [4,5,6]))\n",
    "c\n",
    "# 3행 3열 크기의 2차원 배열 생성\n",
    "d = np.array(([1,2,3], [4,5,6],[7,8,9]))\n",
    "d"
   ]
  },
  {
   "cell_type": "code",
   "execution_count": 20,
   "id": "bdbdf3f8-bd25-4e88-91ff-e416eb2a68e1",
   "metadata": {},
   "outputs": [
    {
     "data": {
      "text/plain": [
       "array([ 1,  2,  3,  4,  5,  6,  7,  8,  9, 10])"
      ]
     },
     "execution_count": 20,
     "metadata": {},
     "output_type": "execute_result"
    }
   ],
   "source": [
    "# 주석 단축키 : ctrl + /\n",
    "# arrange : 숫자 여러개를 생성하는 함수\n",
    "# 연속된 숫자 10개를 생성\n",
    "# 개수만 넣으면 0부터 시작됨\n",
    "a = np.arange(10)\n",
    "# 1부터 10까지 생성\n",
    "# 범위(시작,끝)\n",
    "b = np.arange(1,11)\n",
    "# 1부터 10까지 2씩 건너뛰면서 생성\n",
    "c = np.arange(1,11,2)\n",
    "a\n",
    "b"
   ]
  },
  {
   "cell_type": "code",
   "execution_count": 27,
   "id": "79f13e72-8f57-47c9-b959-d73125ec7d37",
   "metadata": {},
   "outputs": [
    {
     "name": "stdout",
     "output_type": "stream",
     "text": [
      "[85 90 78 92 88]\n"
     ]
    }
   ],
   "source": [
    "arr_scores = np.array(([85,90,78,92,88]))\n",
    "print(arr_scores)"
   ]
  },
  {
   "cell_type": "code",
   "execution_count": 28,
   "id": "5f37acfe-36ee-4634-a713-fbebad61e447",
   "metadata": {},
   "outputs": [
    {
     "name": "stdout",
     "output_type": "stream",
     "text": [
      "[160 165 170 175 180]\n"
     ]
    }
   ],
   "source": [
    "arr_heights = np.array([160,165,170,175,180])\n",
    "print(arr_heights)"
   ]
  },
  {
   "cell_type": "code",
   "execution_count": 29,
   "id": "bd1538d0-1298-4792-b6b8-99c88cd13dc1",
   "metadata": {},
   "outputs": [
    {
     "name": "stdout",
     "output_type": "stream",
     "text": [
      "[1200 1500 1800 2100]\n"
     ]
    }
   ],
   "source": [
    "arr_prices = np.array([1200,1500,1800,2100])\n",
    "print(arr_prices)"
   ]
  },
  {
   "cell_type": "code",
   "execution_count": 30,
   "id": "5a96408c-6ef5-4bef-a8ce-87e28f4bfb18",
   "metadata": {},
   "outputs": [
    {
     "name": "stdout",
     "output_type": "stream",
     "text": [
      "[20 22 19 25 30]\n"
     ]
    }
   ],
   "source": [
    "arr_temps =  np.array([20,22,19,25,30])\n",
    "print(arr_temps)"
   ]
  },
  {
   "cell_type": "code",
   "execution_count": 31,
   "id": "fe9e3b8c-5d3d-4afa-aedb-527de3cf4fcc",
   "metadata": {},
   "outputs": [
    {
     "name": "stdout",
     "output_type": "stream",
     "text": [
      "[0 1 2 3 4]\n"
     ]
    }
   ],
   "source": [
    "arr1 = np.arange(5)\n",
    "print(arr1)"
   ]
  },
  {
   "cell_type": "code",
   "execution_count": 33,
   "id": "ae8f2248-5988-4a79-b632-5cf53c1e28c1",
   "metadata": {},
   "outputs": [
    {
     "name": "stdout",
     "output_type": "stream",
     "text": [
      "[0 1 2 3 4 5 6 7 8]\n"
     ]
    }
   ],
   "source": [
    "arr2 = np.arange(9)\n",
    "print(arr2)"
   ]
  },
  {
   "cell_type": "code",
   "execution_count": 39,
   "id": "7d9e8522-9cb7-4352-8569-7c642fd4684b",
   "metadata": {},
   "outputs": [
    {
     "name": "stdout",
     "output_type": "stream",
     "text": [
      "[3 4 5 6 7]\n"
     ]
    }
   ],
   "source": [
    "arr3 = np.arange(3,8)\n",
    "print(arr3)"
   ]
  },
  {
   "cell_type": "code",
   "execution_count": 41,
   "id": "8bd0179a-1049-4d68-987a-47fa24c47f03",
   "metadata": {},
   "outputs": [
    {
     "name": "stdout",
     "output_type": "stream",
     "text": [
      "[-2 -1  0  1  2]\n"
     ]
    }
   ],
   "source": [
    "arr4 = np.arange(-2,3)\n",
    "print(arr4)"
   ]
  },
  {
   "cell_type": "code",
   "execution_count": 43,
   "id": "1c58d045-7724-42c0-b1b8-4d9d0087e64a",
   "metadata": {},
   "outputs": [
    {
     "data": {
      "text/plain": [
       "array([[0., 0., 0.],\n",
       "       [0., 0., 0.],\n",
       "       [0., 0., 0.]])"
      ]
     },
     "execution_count": 43,
     "metadata": {},
     "output_type": "execute_result"
    }
   ],
   "source": [
    "# zeros : 배열을 생성하고 값을 0으로 초기화\n",
    "# 10개 크기의 배열 생성\n",
    "np.zeros(10)\n",
    "# 2차원 배열 생성\n",
    "np.zeros((3,3))"
   ]
  },
  {
   "cell_type": "code",
   "execution_count": 44,
   "id": "5a20ed47-1ee8-41c8-b502-91758e88744b",
   "metadata": {},
   "outputs": [
    {
     "name": "stdout",
     "output_type": "stream",
     "text": [
      "int64\n",
      "1\n",
      "(3,)\n"
     ]
    }
   ],
   "source": [
    "# 1차원 배열 생성\n",
    "# 파이썬의 리스트와 달리 넘파이 배열은 모든 원소의 자료형이 같다\n",
    "a = np.array([1,2,3])\n",
    "# 배열의 정보를 확인\n",
    "print(a.dtype) # 자료형\n",
    "print(a.ndim)  # 배열의 차원\n",
    "print(a.shape) # 행열의 크기"
   ]
  },
  {
   "cell_type": "code",
   "execution_count": 48,
   "id": "65990f0c-d565-4cb7-bc74-8cb0d2528c33",
   "metadata": {},
   "outputs": [
    {
     "name": "stdout",
     "output_type": "stream",
     "text": [
      "int64\n",
      "2\n",
      "(2, 3)\n"
     ]
    }
   ],
   "source": [
    "# 2행 3열의 2차원 배열 생성\n",
    "b = np.array(([1,2,3],[4,5,6]))\n",
    "print(b.dtype)\n",
    "print(b.ndim)\n",
    "print(b.shape)"
   ]
  },
  {
   "cell_type": "code",
   "execution_count": 53,
   "id": "aaa641a6-2e8a-46b4-9c23-59ea272e0e52",
   "metadata": {},
   "outputs": [
    {
     "data": {
      "text/plain": [
       "dtype('int32')"
      ]
     },
     "execution_count": 53,
     "metadata": {},
     "output_type": "execute_result"
    }
   ],
   "source": [
    "# 실수형 1차원 배열 생성\n",
    "arr = np.array(([1.1,2.1,3.1]))\n",
    "arr.dtype\n",
    "# 배열의 형변환\n",
    "#float -> int\n",
    "arr2 = arr.astype(np.int32)\n",
    "arr2\n",
    "arr2.dtype"
   ]
  },
  {
   "cell_type": "code",
   "execution_count": 54,
   "id": "f48aaeef-1513-4555-8603-fcf044aa38c4",
   "metadata": {},
   "outputs": [
    {
     "name": "stdout",
     "output_type": "stream",
     "text": [
      "4\n",
      "5\n",
      "6\n"
     ]
    }
   ],
   "source": [
    "# 파이썬의 리스트 생성\n",
    "lis = [1,2,3]\n",
    "# 파이썬의 각 원소에 3씩 더하기\n",
    "# 리스트의 원소에 하나씩 계산하려면 for문을 사용해야한다\n",
    "for i in lis:\n",
    "    print(i+3)"
   ]
  },
  {
   "cell_type": "code",
   "execution_count": 55,
   "id": "3f0e2a2c-92dd-4f79-8ab4-cc237071ebf6",
   "metadata": {},
   "outputs": [
    {
     "data": {
      "text/plain": [
       "array([4, 5, 6])"
      ]
     },
     "execution_count": 55,
     "metadata": {},
     "output_type": "execute_result"
    }
   ],
   "source": [
    "# 넘파이 배열 생성\n",
    "# 넘파이 배열은 for문 없이 각 원소에 값을 계산할 수 있다 !\n",
    "a = np.array([1,2,3])\n",
    "# 각 원소에 3씩 더하기\n",
    "a + 3"
   ]
  },
  {
   "cell_type": "code",
   "execution_count": 56,
   "id": "e9ca6420-c700-4f7c-91d1-c08868b7549c",
   "metadata": {},
   "outputs": [
    {
     "data": {
      "text/plain": [
       "array([False, False, False])"
      ]
     },
     "execution_count": 56,
     "metadata": {},
     "output_type": "execute_result"
    }
   ],
   "source": [
    "a = np.array([1,2,3])\n",
    "b = np.array([4,5,6])\n",
    "# 두 원소 비교하기\n",
    "a > b"
   ]
  },
  {
   "cell_type": "markdown",
   "id": "cec62d9e-4e90-43ac-be97-c21a3b07222b",
   "metadata": {},
   "source": [
    "인덱스와 슬라이스"
   ]
  },
  {
   "cell_type": "code",
   "execution_count": 65,
   "id": "c84f5df4-5f9f-4e89-af7d-e6f6498165a0",
   "metadata": {},
   "outputs": [
    {
     "name": "stdout",
     "output_type": "stream",
     "text": [
      "[0 1 2 3 4 5 6 7 8 9]\n"
     ]
    },
    {
     "data": {
      "text/plain": [
       "array([ 0, 99,  2, 88, 88, 88,  6,  7,  8,  9])"
      ]
     },
     "execution_count": 65,
     "metadata": {},
     "output_type": "execute_result"
    }
   ],
   "source": [
    "# 0~9 숫자 만들고 1차원 배열 생성\n",
    "a = np.arange(10)\n",
    "print(a)\n",
    "# 배열의 원소 하나 꺼내기\n",
    "a[1]\n",
    "# 범위로 값 꺼내기 (슬라이스)\n",
    "a[3:6]\n",
    "# 원소 값 변경하기\n",
    "# 두번째 원소의 값 변경하기\n",
    "a[1] =99\n",
    "a\n",
    "# 특정 범위에 있는 값을 모두 변경하기\n",
    "# 4,5,6 번째 데이터 변경\n",
    "a[3:6] = 88\n",
    "a"
   ]
  },
  {
   "cell_type": "code",
   "execution_count": 66,
   "id": "c7b7608a-2443-4c39-94da-a3c242bbe845",
   "metadata": {},
   "outputs": [
    {
     "data": {
      "text/plain": [
       "array([ 0, 99,  2, 88, 88, 88,  6,  7,  8,  9])"
      ]
     },
     "execution_count": 66,
     "metadata": {},
     "output_type": "execute_result"
    }
   ],
   "source": [
    "# 배열 전체 선택\n",
    "# a 를 출력하는것과 같다\n",
    "a[:]"
   ]
  },
  {
   "cell_type": "code",
   "execution_count": 67,
   "id": "16a26177-fc83-4322-9cf0-8c6e0fc1abc0",
   "metadata": {},
   "outputs": [
    {
     "data": {
      "text/plain": [
       "array([999, 999, 999, 999, 999, 999, 999, 999, 999, 999])"
      ]
     },
     "execution_count": 67,
     "metadata": {},
     "output_type": "execute_result"
    }
   ],
   "source": [
    "# 슬라이스로 배열 전체를 선택하고 , 값 변경\n",
    "a[:] = 999\n",
    "a"
   ]
  },
  {
   "cell_type": "code",
   "execution_count": 72,
   "id": "3331a9eb-0ee9-4ae0-a2f2-95371d4aa340",
   "metadata": {},
   "outputs": [
    {
     "name": "stdout",
     "output_type": "stream",
     "text": [
      "[10 20 30 40 50]\n"
     ]
    },
    {
     "data": {
      "text/plain": [
       "np.int64(10)"
      ]
     },
     "execution_count": 72,
     "metadata": {},
     "output_type": "execute_result"
    }
   ],
   "source": [
    "arr = np.array([10,20,30,40,50])\n",
    "# 배열의 첫번째 값을 꺼내서 출력하세요 \n",
    "print(arr)\n",
    "arr[0]"
   ]
  },
  {
   "cell_type": "code",
   "execution_count": 73,
   "id": "6d512739-802f-4786-a8b9-4fcb488f71d5",
   "metadata": {},
   "outputs": [
    {
     "name": "stdout",
     "output_type": "stream",
     "text": [
      "[10 20 30 40 50]\n"
     ]
    },
    {
     "data": {
      "text/plain": [
       "np.int64(30)"
      ]
     },
     "execution_count": 73,
     "metadata": {},
     "output_type": "execute_result"
    }
   ],
   "source": [
    "arr = np.array([10,20,30,40,50])\n",
    "# 배열의 세번째 값을 꺼내서 출력하세요 \n",
    "print(arr)\n",
    "arr[2]"
   ]
  },
  {
   "cell_type": "code",
   "execution_count": 74,
   "id": "e86d3bf5-6552-4553-9ce0-104ad8bd75dc",
   "metadata": {},
   "outputs": [
    {
     "name": "stdout",
     "output_type": "stream",
     "text": [
      "[10 20 30 40 50]\n"
     ]
    },
    {
     "data": {
      "text/plain": [
       "np.int64(50)"
      ]
     },
     "execution_count": 74,
     "metadata": {},
     "output_type": "execute_result"
    }
   ],
   "source": [
    "arr = np.array([10,20,30,40,50])\n",
    "# 배열의 마지막 값을 꺼내서 출력하세요 \n",
    "print(arr)\n",
    "arr[4]"
   ]
  },
  {
   "cell_type": "code",
   "execution_count": 77,
   "id": "209e6c4e-5f21-43c6-95fa-3596745a09f3",
   "metadata": {},
   "outputs": [
    {
     "name": "stdout",
     "output_type": "stream",
     "text": [
      "[ 10 200  30  40  50]\n"
     ]
    }
   ],
   "source": [
    "arr = np.array([10,20,30,40,50])\n",
    "# 배열의 두번째 값을 200으로 바꾸세요\n",
    "arr[1] = 200\n",
    "print(arr)"
   ]
  },
  {
   "cell_type": "code",
   "execution_count": 78,
   "id": "03ef0595-509f-4c12-9907-895a2eafd21a",
   "metadata": {},
   "outputs": [
    {
     "name": "stdout",
     "output_type": "stream",
     "text": [
      "[ 10  20  30 999  50]\n"
     ]
    }
   ],
   "source": [
    "arr = np.array([10,20,30,40,50])\n",
    "# 배열의 네번째 값을 999로 바꾸세요\n",
    "arr[3] = 999\n",
    "print(arr)"
   ]
  },
  {
   "cell_type": "code",
   "execution_count": 80,
   "id": "11ec9c8f-c299-41bc-88d6-441cdeba5577",
   "metadata": {},
   "outputs": [
    {
     "name": "stdout",
     "output_type": "stream",
     "text": [
      "['가' '나' '다' '라' '마']\n"
     ]
    },
    {
     "data": {
      "text/plain": [
       "np.str_('나')"
      ]
     },
     "execution_count": 80,
     "metadata": {},
     "output_type": "execute_result"
    }
   ],
   "source": [
    "arr = np.array([\"가\",\"나\",\"다\",\"라\",\"마\"])\n",
    "# 배열의 두번째 값을 꺼내서 출력하세요\n",
    "print(arr)\n",
    "arr[1]"
   ]
  },
  {
   "cell_type": "code",
   "execution_count": 81,
   "id": "e12ab146-a1d0-477e-aacb-9f1c9a356186",
   "metadata": {},
   "outputs": [
    {
     "name": "stdout",
     "output_type": "stream",
     "text": [
      "['가' '나' '다' '라' '마']\n"
     ]
    },
    {
     "data": {
      "text/plain": [
       "np.str_('라')"
      ]
     },
     "execution_count": 81,
     "metadata": {},
     "output_type": "execute_result"
    }
   ],
   "source": [
    "arr = np.array([\"가\",\"나\",\"다\",\"라\",\"마\"])\n",
    "# 배열의 [4번째 값을 꺼내서 출력하세요\n",
    "print(arr)\n",
    "arr[3]"
   ]
  },
  {
   "cell_type": "code",
   "execution_count": 82,
   "id": "99102f13-49c0-477b-b8c9-1333fa8a8be5",
   "metadata": {},
   "outputs": [
    {
     "name": "stdout",
     "output_type": "stream",
     "text": [
      "['가' '나' '다' '라' '마']\n"
     ]
    },
    {
     "data": {
      "text/plain": [
       "np.str_('마')"
      ]
     },
     "execution_count": 82,
     "metadata": {},
     "output_type": "execute_result"
    }
   ],
   "source": [
    "arr = np.array([\"가\",\"나\",\"다\",\"라\",\"마\"])\n",
    "# 배열의 마지막값을 꺼내서 출력하세요\n",
    "print(arr)\n",
    "arr[4]"
   ]
  },
  {
   "cell_type": "code",
   "execution_count": 85,
   "id": "0a881f8d-7dfc-436f-a336-f77c78609a9d",
   "metadata": {},
   "outputs": [
    {
     "name": "stdout",
     "output_type": "stream",
     "text": [
      "['하' '나' '다' '라' '마']\n"
     ]
    }
   ],
   "source": [
    "arr = np.array([\"가\",\"나\",\"다\",\"라\",\"마\"])\n",
    "# 배열의 첫번째 값을 '하'로 바꾸세요\n",
    "arr[0] = \"하\"\n",
    "print(arr)"
   ]
  },
  {
   "cell_type": "code",
   "execution_count": 86,
   "id": "d5d96d17-be41-4018-8de8-b6ce809ae47a",
   "metadata": {},
   "outputs": [
    {
     "name": "stdout",
     "output_type": "stream",
     "text": [
      "['가' '나' '하' '라' '마']\n"
     ]
    }
   ],
   "source": [
    "arr = np.array([\"가\",\"나\",\"다\",\"라\",\"마\"])\n",
    "# 배열의 세번째 값을 '호'로 바꾸세요\n",
    "arr[2] = \"하\"\n",
    "print(arr)"
   ]
  },
  {
   "cell_type": "code",
   "execution_count": 94,
   "id": "cbe2a24e-4ea5-4b3b-bc5b-0e88a1426b16",
   "metadata": {},
   "outputs": [
    {
     "name": "stdout",
     "output_type": "stream",
     "text": [
      "[10 20 30 40 50 60 70]\n"
     ]
    },
    {
     "data": {
      "text/plain": [
       "array([10, 20, 30])"
      ]
     },
     "execution_count": 94,
     "metadata": {},
     "output_type": "execute_result"
    }
   ],
   "source": [
    "arr = np.array([10,20,30,40,50,60,70])\n",
    "# 배열의 처음 3개 값을 꺼내서 출력하세요\n",
    "print(arr)\n",
    "arr[:3]"
   ]
  },
  {
   "cell_type": "code",
   "execution_count": 90,
   "id": "7b1857ea-7c83-45e1-a229-749cfda166b5",
   "metadata": {},
   "outputs": [
    {
     "name": "stdout",
     "output_type": "stream",
     "text": [
      "[10 20 30 40 50 60 70]\n"
     ]
    },
    {
     "data": {
      "text/plain": [
       "array([40, 50, 60, 70])"
      ]
     },
     "execution_count": 90,
     "metadata": {},
     "output_type": "execute_result"
    }
   ],
   "source": [
    "arr = np.array([10,20,30,40,50,60,70])\n",
    "# 배열의 네번째부터 끝까지 값을 꺼내서 출력하세요\n",
    "print(arr)\n",
    "arr[3:]"
   ]
  },
  {
   "cell_type": "code",
   "execution_count": 92,
   "id": "76ea789c-6679-4297-8e9c-3199997ed515",
   "metadata": {},
   "outputs": [
    {
     "name": "stdout",
     "output_type": "stream",
     "text": [
      "[10 20 30 40 50 60 70]\n"
     ]
    },
    {
     "data": {
      "text/plain": [
       "array([20, 30, 40, 50])"
      ]
     },
     "execution_count": 92,
     "metadata": {},
     "output_type": "execute_result"
    }
   ],
   "source": [
    "arr = np.array([10,20,30,40,50,60,70])\n",
    "# 배열의 두번째부터 다섯번째 값을 꺼내서 출력하세요\n",
    "print(arr)\n",
    "arr[1:5]"
   ]
  },
  {
   "cell_type": "code",
   "execution_count": 95,
   "id": "83f1230a-134b-46bc-a2d0-2c3105d3f083",
   "metadata": {},
   "outputs": [
    {
     "name": "stdout",
     "output_type": "stream",
     "text": [
      "['a' 'b' 'c' 'd' 'e' 'f' 'g']\n"
     ]
    },
    {
     "data": {
      "text/plain": [
       "array(['a', 'b', 'c'], dtype='<U1')"
      ]
     },
     "execution_count": 95,
     "metadata": {},
     "output_type": "execute_result"
    }
   ],
   "source": [
    "arr = np.array([\"a\",\"b\",\"c\",\"d\",\"e\",\"f\",\"g\"])\n",
    "# 배열의 처음 3개 값을 꺼내서 출력하세요\n",
    "print(arr)\n",
    "arr[:3]"
   ]
  },
  {
   "cell_type": "code",
   "execution_count": 97,
   "id": "4549a7e3-cf39-4568-8cba-f4375e3ab0e5",
   "metadata": {},
   "outputs": [
    {
     "name": "stdout",
     "output_type": "stream",
     "text": [
      "['a' 'b' 'c' 'd' 'e' 'f' 'g']\n"
     ]
    },
    {
     "data": {
      "text/plain": [
       "array(['d', 'e', 'f', 'g'], dtype='<U1')"
      ]
     },
     "execution_count": 97,
     "metadata": {},
     "output_type": "execute_result"
    }
   ],
   "source": [
    "arr = np.array([\"a\",\"b\",\"c\",\"d\",\"e\",\"f\",\"g\"])\n",
    "# 배열의 네번째부터 끝까지 값을 꺼내서 출력하세요\n",
    "print(arr)\n",
    "arr[3:]"
   ]
  },
  {
   "cell_type": "code",
   "execution_count": 98,
   "id": "13ea7ac3-e372-4535-b6fb-2f47d60f5d74",
   "metadata": {},
   "outputs": [
    {
     "name": "stdout",
     "output_type": "stream",
     "text": [
      "['a' 'b' 'c' 'd' 'e' 'f' 'g']\n"
     ]
    },
    {
     "data": {
      "text/plain": [
       "array(['b', 'c', 'd', 'e', 'f'], dtype='<U1')"
      ]
     },
     "execution_count": 98,
     "metadata": {},
     "output_type": "execute_result"
    }
   ],
   "source": [
    "arr = np.array([\"a\",\"b\",\"c\",\"d\",\"e\",\"f\",\"g\"])\n",
    "# 배열의 두번째부터 다섯번째까지 값을 꺼내서 출력하세요\n",
    "print(arr)\n",
    "arr[1:6]"
   ]
  },
  {
   "cell_type": "markdown",
   "id": "5e5225fb-bfd9-4fe3-b73d-1966e5e546a8",
   "metadata": {},
   "source": [
    "2차원 배열의 인덱싱"
   ]
  },
  {
   "cell_type": "code",
   "execution_count": 100,
   "id": "91e4973b-00e5-44cb-85eb-eadb6cf22a17",
   "metadata": {},
   "outputs": [
    {
     "name": "stdout",
     "output_type": "stream",
     "text": [
      "[[1 2 3]\n",
      " [4 5 6]\n",
      " [7 8 9]]\n"
     ]
    }
   ],
   "source": [
    "# 3행 3열 2차원 배열 생성\n",
    "arr = np.array([[1,2,3,],[4,5,6],[7,8,9]])\n",
    "print(arr)"
   ]
  },
  {
   "cell_type": "code",
   "execution_count": 102,
   "id": "065b8750-f488-4423-9b22-6b6a79ed2f66",
   "metadata": {},
   "outputs": [
    {
     "data": {
      "text/plain": [
       "array([1, 2, 3])"
      ]
     },
     "execution_count": 102,
     "metadata": {},
     "output_type": "execute_result"
    }
   ],
   "source": [
    "# 2차원 배열의 인덱스\n",
    "# 행 = 인덱스\n",
    "# 열 = 컬럼\n",
    "# 첫번째 행 꺼내기\n",
    "arr[0]"
   ]
  },
  {
   "cell_type": "code",
   "execution_count": 106,
   "id": "06578742-9287-423d-92c8-6b31ce21ca3a",
   "metadata": {},
   "outputs": [
    {
     "data": {
      "text/plain": [
       "np.int64(5)"
      ]
     },
     "execution_count": 106,
     "metadata": {},
     "output_type": "execute_result"
    }
   ],
   "source": [
    "# 1 꺼내기\n",
    "arr[0][0]\n",
    "# 9 꺼내기\n",
    "arr[2][2]\n",
    "# 5 꺼내기\n",
    "arr[1][1] \n",
    "# 혹은 \n",
    "arr[1,1]"
   ]
  },
  {
   "cell_type": "code",
   "execution_count": 108,
   "id": "1546c869-7356-4dee-a644-e4fdec526eec",
   "metadata": {},
   "outputs": [
    {
     "data": {
      "text/plain": [
       "array([[0, 2, 3],\n",
       "       [4, 0, 6],\n",
       "       [7, 8, 9]])"
      ]
     },
     "execution_count": 108,
     "metadata": {},
     "output_type": "execute_result"
    }
   ],
   "source": [
    "# 배열 원소의 값 바꾸기\n",
    "# 0 -> 1\n",
    "arr[0][0] = 0\n",
    "arr\n",
    "# 5 -> 0\n",
    "arr[1][1] = 0\n",
    "arr"
   ]
  },
  {
   "cell_type": "markdown",
   "id": "5d2198d8-b44d-459f-8d81-239af49b2473",
   "metadata": {},
   "source": [
    "2차원 배열의 슬라이스"
   ]
  },
  {
   "cell_type": "code",
   "execution_count": 113,
   "id": "e2804f95-11c6-480e-b1a6-8d61065c7256",
   "metadata": {},
   "outputs": [
    {
     "data": {
      "text/plain": [
       "array([4, 0])"
      ]
     },
     "execution_count": 113,
     "metadata": {},
     "output_type": "execute_result"
    }
   ],
   "source": [
    "# 행 : 슬라이스 x 1번 행만 선택\n",
    "# 열 : 0번 1번\n",
    "arr [ 1 , 0:2]"
   ]
  },
  {
   "cell_type": "code",
   "execution_count": 121,
   "id": "b79fbf38-0034-4f9e-9254-3bcab2546d30",
   "metadata": {},
   "outputs": [
    {
     "data": {
      "text/plain": [
       "np.int64(20)"
      ]
     },
     "execution_count": 121,
     "metadata": {},
     "output_type": "execute_result"
    }
   ],
   "source": [
    "arr =np.array([[10,20,30],[40,50,60,],[70,80,90]])\n",
    "# 첫번째 행의 두번째 값을 꺼내서 출력하세요\n",
    "arr [0][1]\n"
   ]
  },
  {
   "cell_type": "code",
   "execution_count": 122,
   "id": "50df7c44-8f65-457e-bd18-965bb0ddf77d",
   "metadata": {},
   "outputs": [
    {
     "data": {
      "text/plain": [
       "np.int64(70)"
      ]
     },
     "execution_count": 122,
     "metadata": {},
     "output_type": "execute_result"
    }
   ],
   "source": [
    "arr =np.array([[10,20,30],[40,50,60,],[70,80,90]])\n",
    "# 세번째 행의 첫번째 값을 꺼내서 출력하세요\n",
    "arr [2][0]"
   ]
  },
  {
   "cell_type": "code",
   "execution_count": 148,
   "id": "e19c5047-eba5-45e2-866a-9c80c811377b",
   "metadata": {},
   "outputs": [
    {
     "data": {
      "text/plain": [
       "array([40, 50, 60])"
      ]
     },
     "execution_count": 148,
     "metadata": {},
     "output_type": "execute_result"
    }
   ],
   "source": [
    "arr =np.array([[10,20,30],[40,50,60,],[70,80,90]])\n",
    "# 두번째 행 전체를 꺼내서 출력하세요\n",
    "arr [1]"
   ]
  },
  {
   "cell_type": "code",
   "execution_count": 149,
   "id": "d39aa3f8-cea7-4618-9849-52759cf49027",
   "metadata": {},
   "outputs": [
    {
     "data": {
      "text/plain": [
       "array([20, 50, 80])"
      ]
     },
     "execution_count": 149,
     "metadata": {},
     "output_type": "execute_result"
    }
   ],
   "source": [
    "arr =np.array([[10,20,30],[40,50,60,],[70,80,90]])\n",
    "# 두번째 열 전체를 꺼내서 출력하세요\n",
    "arr [:,1]"
   ]
  },
  {
   "cell_type": "code",
   "execution_count": 146,
   "id": "eebf400d-272a-4d2d-a67f-852baa530f86",
   "metadata": {},
   "outputs": [
    {
     "name": "stdout",
     "output_type": "stream",
     "text": [
      "[[ 10  20 300]\n",
      " [ 40  50  60]\n",
      " [ 70  80  90]]\n"
     ]
    }
   ],
   "source": [
    "arr =np.array([[10,20,30],[40,50,60,],[70,80,90]])\n",
    "# 첫 번째 행의 세번째 값을 300으로 바꾸세요\n",
    "arr [0][2] = 300\n",
    "print(arr)"
   ]
  },
  {
   "cell_type": "code",
   "execution_count": 151,
   "id": "a0b87a5a-8575-47ef-86f6-0d8431c9e2f7",
   "metadata": {},
   "outputs": [
    {
     "data": {
      "text/plain": [
       "np.int64(7)"
      ]
     },
     "execution_count": 151,
     "metadata": {},
     "output_type": "execute_result"
    }
   ],
   "source": [
    "arr = np.array([[1,2,3,4],[5,6,7,8],[9,10,11,12],[13,14,15,16]])\n",
    "# 두번째 행의 세번째 값을 꺼내서 출력하세요\n",
    "arr [1,2]"
   ]
  },
  {
   "cell_type": "code",
   "execution_count": 154,
   "id": "dcb13cf7-4fb5-4dcb-b2c7-da6c4b83fa68",
   "metadata": {},
   "outputs": [
    {
     "data": {
      "text/plain": [
       "np.int64(13)"
      ]
     },
     "execution_count": 154,
     "metadata": {},
     "output_type": "execute_result"
    }
   ],
   "source": [
    "arr = np.array([[1,2,3,4],[5,6,7,8],[9,10,11,12],[13,14,15,16]])\n",
    "# 네번째 행의 첫번째 값을 꺼내서 출력하세요\n",
    "arr [3,0]"
   ]
  },
  {
   "cell_type": "code",
   "execution_count": 156,
   "id": "246544f7-2d38-47a1-8890-4f21d5270039",
   "metadata": {},
   "outputs": [
    {
     "data": {
      "text/plain": [
       "array([ 9, 10, 11, 12])"
      ]
     },
     "execution_count": 156,
     "metadata": {},
     "output_type": "execute_result"
    }
   ],
   "source": [
    "arr = np.array([[1,2,3,4],[5,6,7,8],[9,10,11,12],[13,14,15,16]])\n",
    "# 세번쩨 행을 전체를 꺼내서 출력하세요\n",
    "arr [2]"
   ]
  },
  {
   "cell_type": "code",
   "execution_count": 158,
   "id": "86086f32-f7ba-4233-9fe5-d6608e38842a",
   "metadata": {},
   "outputs": [
    {
     "data": {
      "text/plain": [
       "array([ 4,  8, 12, 16])"
      ]
     },
     "execution_count": 158,
     "metadata": {},
     "output_type": "execute_result"
    }
   ],
   "source": [
    "arr = np.array([[1,2,3,4],[5,6,7,8],[9,10,11,12],[13,14,15,16]])\n",
    "# 네번째 열을 전체를 꺼내서 출력하세요\n",
    "arr [:,3]"
   ]
  },
  {
   "cell_type": "code",
   "execution_count": 160,
   "id": "313d3340-b41c-4f98-aeb8-526e45ef5413",
   "metadata": {},
   "outputs": [
    {
     "name": "stdout",
     "output_type": "stream",
     "text": [
      "[[  1   2   3 100]\n",
      " [  5   6   7   8]\n",
      " [  9  10  11  12]\n",
      " [ 13  14  15  16]]\n"
     ]
    }
   ],
   "source": [
    "arr = np.array([[1,2,3,4],[5,6,7,8],[9,10,11,12],[13,14,15,16]])\n",
    "# 첫번째 행의 네번째 값을 100으로 바꾸세요\n",
    "arr [0,3] = 100\n",
    "print(arr)"
   ]
  },
  {
   "cell_type": "code",
   "execution_count": 161,
   "id": "b77b44ce-3716-48fc-ab7b-9066407123ed",
   "metadata": {},
   "outputs": [
    {
     "data": {
      "text/plain": [
       "array([10, 20])"
      ]
     },
     "execution_count": 161,
     "metadata": {},
     "output_type": "execute_result"
    }
   ],
   "source": [
    "arr =np.array([[10,20,30],[40,50,60,],[70,80,90]])\n",
    "# 첫번째 행의 앞 2개 숫자를 꺼내서 출력하세요\n",
    "arr [0,:2]"
   ]
  },
  {
   "cell_type": "code",
   "execution_count": 165,
   "id": "a1b73a04-9f52-4dfd-b183-8cd24532df86",
   "metadata": {},
   "outputs": [
    {
     "data": {
      "text/plain": [
       "array([[40, 50, 60],\n",
       "       [70, 80, 90]])"
      ]
     },
     "execution_count": 165,
     "metadata": {},
     "output_type": "execute_result"
    }
   ],
   "source": [
    "arr =np.array([[10,20,30],[40,50,60,],[70,80,90]])\n",
    "# 두번재 행부터 세번째 행까지 전체를 꺼내서 출력하세요\n",
    "arr [1:,:3]"
   ]
  },
  {
   "cell_type": "code",
   "execution_count": 170,
   "id": "a8328ff0-a563-4846-a68d-3f1d65fb55b4",
   "metadata": {},
   "outputs": [
    {
     "data": {
      "text/plain": [
       "array([[20, 30],\n",
       "       [50, 60],\n",
       "       [80, 90]])"
      ]
     },
     "execution_count": 170,
     "metadata": {},
     "output_type": "execute_result"
    }
   ],
   "source": [
    "arr =np.array([[10,20,30],[40,50,60,],[70,80,90]])\n",
    "# 모든행에서 두번째와 세번째 열만 꺼내서 출력하세요\n",
    "arr [:,1:3]"
   ]
  },
  {
   "cell_type": "markdown",
   "id": "e1c6b6dc-54e4-4162-9e63-d76a20165c57",
   "metadata": {},
   "source": [
    "불리언 인덱스\n",
    "인덱스란 ? 데이터의 위치"
   ]
  },
  {
   "cell_type": "code",
   "execution_count": 187,
   "id": "177aae83-ad6a-4b50-9340-ef37da4e7832",
   "metadata": {},
   "outputs": [],
   "source": [
    "# 학생 배열 생성\n",
    "students = np.array(['철수','영희','민수','철수','철수'])\n",
    "# 학생들의 대출 이력\n",
    "books = np.array ([['수학의 정석',7],['해리포터',10],['파이썬 입문',5],['한국사',5],['데미안',12]])"
   ]
  },
  {
   "cell_type": "code",
   "execution_count": 177,
   "id": "5b8612c1-6ee2-4756-94dc-55dc7f55dd62",
   "metadata": {},
   "outputs": [
    {
     "data": {
      "text/plain": [
       "array([ True, False, False,  True,  True])"
      ]
     },
     "execution_count": 177,
     "metadata": {},
     "output_type": "execute_result"
    }
   ],
   "source": [
    "# 여기서 철수의 대출 이력만 조회하기\n",
    "# 배열 == '비교값'\n",
    "# 배열 전체에 철수를 비교\n",
    "# 총 5번 비교하고 bool 배열 반환\n",
    "\n",
    "arr= (students == '철수')\n",
    "arr"
   ]
  },
  {
   "cell_type": "code",
   "execution_count": 178,
   "id": "424789c7-b375-4f5e-a4b3-7f56813f61f6",
   "metadata": {},
   "outputs": [
    {
     "data": {
      "text/plain": [
       "array([['수학의 정석', '7'],\n",
       "       ['한국사', '5'],\n",
       "       ['데미안', '12']], dtype='<U21')"
      ]
     },
     "execution_count": 178,
     "metadata": {},
     "output_type": "execute_result"
    }
   ],
   "source": [
    "# books 배열의 인덱스에 bool 배열 넣기\n",
    "# true 에 해당하는 원소만 반환\n",
    "# 조건에 맞는 원소를 꺼낼때 사용 !\n",
    "books[students == '철수']"
   ]
  },
  {
   "cell_type": "code",
   "execution_count": 181,
   "id": "de4b3510-fb1e-43b1-a6e0-4320b51660ac",
   "metadata": {},
   "outputs": [
    {
     "name": "stdout",
     "output_type": "stream",
     "text": [
      "[False  True  True False False]\n"
     ]
    },
    {
     "data": {
      "text/plain": [
       "array([['해리포터', '10'],\n",
       "       ['파이썬 입문', '5']], dtype='<U21')"
      ]
     },
     "execution_count": 181,
     "metadata": {},
     "output_type": "execute_result"
    }
   ],
   "source": [
    "print(students != '철수')\n",
    "# 철수가 아닌 대출 이력 찾기\n",
    "# true 에 해당하는 원소만 반환\n",
    "books[students != '철수']"
   ]
  },
  {
   "cell_type": "code",
   "execution_count": 190,
   "id": "2c0bc2be-ae1f-4828-97e2-63e7e27a1684",
   "metadata": {},
   "outputs": [
    {
     "data": {
      "text/plain": [
       "array([['자바의 정석', '7'],\n",
       "       ['해리포터', '10'],\n",
       "       ['파이썬 입문', '5'],\n",
       "       ['한국사', '5'],\n",
       "       ['데미안', '12']], dtype='<U21')"
      ]
     },
     "execution_count": 190,
     "metadata": {},
     "output_type": "execute_result"
    }
   ],
   "source": [
    "# '수학의 정석'을 찾아서 제목을 '자바의 정석'으로 바꾸기\n",
    "books == '수학의 정석'\n",
    "# bool 배열로 원소를 찾고 값 교체\n",
    "books[books == '수학의 정석'] ='자바의 정석'\n",
    "books"
   ]
  },
  {
   "cell_type": "code",
   "execution_count": 195,
   "id": "9dac0f0f-74fa-46bb-bd90-fb4738e4a877",
   "metadata": {},
   "outputs": [
    {
     "data": {
      "text/plain": [
       "array([['자바의 정석', '7'],\n",
       "       ['7', '7'],\n",
       "       ['7', '7'],\n",
       "       ['한국사', '5'],\n",
       "       ['데미안', '12']], dtype='<U21')"
      ]
     },
     "execution_count": 195,
     "metadata": {},
     "output_type": "execute_result"
    }
   ],
   "source": [
    "# 대출 이력 중에서 철수가 아닌 항목을 찾고 \n",
    "# 행 전체를 7로 바꾸기\n",
    "students != '철수'\n",
    "books[students != '철수'] = 7\n",
    "books"
   ]
  },
  {
   "cell_type": "code",
   "execution_count": 213,
   "id": "aeded24d-fd32-44a6-b6ac-1d6f5cb6a124",
   "metadata": {},
   "outputs": [
    {
     "name": "stdout",
     "output_type": "stream",
     "text": [
      "[40 50 60 70]\n"
     ]
    }
   ],
   "source": [
    "arr = np.array([10,20,30,40,50,60,70])\n",
    "# 배열에서 30보다 큰 값만 꺼내서 출력하세요\n",
    "arr[arr > 30]\n",
    "print(arr[arr > 30])"
   ]
  },
  {
   "cell_type": "code",
   "execution_count": 214,
   "id": "e86dcca8-2bac-4535-866b-79654b778e46",
   "metadata": {},
   "outputs": [
    {
     "name": "stdout",
     "output_type": "stream",
     "text": [
      "[10 20 30 40 50 60 70]\n"
     ]
    }
   ],
   "source": [
    "arr = np.array([10,20,30,40,50,60,70])\n",
    "# 배열에서 짝수값만 꺼내서 출력하세요\n",
    "arr[arr % 2 == 0]\n",
    "print(arr[arr % 2 == 0])"
   ]
  },
  {
   "cell_type": "code",
   "execution_count": 219,
   "id": "9e0f8d2a-d04a-45fd-a66e-12208724c68a",
   "metadata": {},
   "outputs": [
    {
     "data": {
      "text/plain": [
       "array([ 10,  20,  30,  40,  50, 999, 999])"
      ]
     },
     "execution_count": 219,
     "metadata": {},
     "output_type": "execute_result"
    }
   ],
   "source": [
    "arr = np.array([10,20,30,40,50,60,70])\n",
    "# 배열에서 50보다 큰 값을 모두 999로 바꾸세요\n",
    "arr[arr > 50]=999\n",
    "arr"
   ]
  },
  {
   "cell_type": "code",
   "execution_count": 236,
   "id": "eeddd2fd-0be3-4306-8230-a9fbea1afe7b",
   "metadata": {},
   "outputs": [
    {
     "name": "stdout",
     "output_type": "stream",
     "text": [
      "맹구의 급여: [400]\n",
      "급여가 300만원 이상인 직원: ['철수' '맹구']\n",
      "200만원 미만 급여 인상 [250 320 280 400 200]\n"
     ]
    }
   ],
   "source": [
    "# 직원 이름 배열\n",
    "employees = np.array([\"짱구\",\"철수\",\"유리\",\"맹구\",\"훈이\"])\n",
    "# 직원별 월급 (만원단위)\n",
    "salaries = np.array([250,320,280,400,150])\n",
    "# 직원 이름과 월급은 대응\n",
    "\n",
    "# 맹구의 급여 조회\n",
    "employees == \"맹구\"\n",
    "salaries[employees == \"맹구\"]\n",
    "print (\"맹구의 급여:\",salaries[employees == \"맹구\"])\n",
    "\n",
    "#  급여가 300민원 이상인 직원들의 이름을 출력하시오\n",
    "salaries >= 300\n",
    "employees[salaries >= 300]\n",
    "print(\"급여가 300만원 이상인 직원:\",employees[salaries >= 300])\n",
    "\n",
    "# 급여가 200만원 미만인 직원들의 급여를 모두 200으로 올리세요\n",
    "salaries < 200\n",
    "salaries[salaries < 200] = 200\n",
    "print(\"200만원 미만 급여 인상\", salaries)"
   ]
  },
  {
   "cell_type": "markdown",
   "id": "03d9faab-2edf-4c4d-a4a6-c6dc2f8fdeb8",
   "metadata": {},
   "source": [
    "3.2 배열의 모양 바꾸기"
   ]
  },
  {
   "cell_type": "code",
   "execution_count": 240,
   "id": "53713295-c920-4893-b8cc-ea203c1b491c",
   "metadata": {},
   "outputs": [
    {
     "name": "stdout",
     "output_type": "stream",
     "text": [
      "[1 2 3 4 5 6 7 8 9]\n"
     ]
    },
    {
     "data": {
      "text/plain": [
       "array([[1, 2, 3],\n",
       "       [4, 5, 6],\n",
       "       [7, 8, 9]])"
      ]
     },
     "execution_count": 240,
     "metadata": {},
     "output_type": "execute_result"
    }
   ],
   "source": [
    "# 1~9 숫자가 담긴 1차원 배열 생성\n",
    "# reshape : 배열의 형태를 바꾸는 함수\n",
    "# 1차원 -> 2차원\n",
    "# 3행 3열 크기의 배열로 변환\n",
    "print(np.arange(1,10))\n",
    "arr = np.arange(1,10).reshape(3,3)\n",
    "arr"
   ]
  },
  {
   "cell_type": "code",
   "execution_count": 242,
   "id": "eacbc0e9-0727-45d0-8337-cf9d85708d6f",
   "metadata": {},
   "outputs": [
    {
     "data": {
      "text/plain": [
       "array([[ 1,  2,  3,  4],\n",
       "       [ 5,  6,  7,  8],\n",
       "       [ 9, 10, 11, 12],\n",
       "       [13, 14, 15, 16]])"
      ]
     },
     "execution_count": 242,
     "metadata": {},
     "output_type": "execute_result"
    }
   ],
   "source": [
    "# 1~16 숫자가 담긴 1차원 배열\n",
    "# 1차원 -> 2차원\n",
    "a = np.arange(1,17).reshape(4,4)\n",
    "a"
   ]
  },
  {
   "cell_type": "code",
   "execution_count": 243,
   "id": "f9074200-ceb9-40f9-b1a3-57837650d5e4",
   "metadata": {},
   "outputs": [
    {
     "name": "stdout",
     "output_type": "stream",
     "text": [
      "[ 1  2  3  4  5  6  7  8  9 10 11 12]\n"
     ]
    },
    {
     "data": {
      "text/plain": [
       "array([[ 1,  2,  3,  4],\n",
       "       [ 5,  6,  7,  8],\n",
       "       [ 9, 10, 11, 12]])"
      ]
     },
     "execution_count": 243,
     "metadata": {},
     "output_type": "execute_result"
    }
   ],
   "source": [
    "# 1~12 1차원 배열\n",
    "# 이배열을 3행 4열로 배열로 변환\n",
    "print(np.arange(1,13))\n",
    "a = np.arange(1,13).reshape(3,4)\n",
    "a"
   ]
  },
  {
   "cell_type": "code",
   "execution_count": 246,
   "id": "8f727e4b-a24e-402f-be44-514274903edd",
   "metadata": {},
   "outputs": [
    {
     "name": "stdout",
     "output_type": "stream",
     "text": [
      "[ 0  1  2  3  4  5  6  7  8  9 10 11]\n"
     ]
    },
    {
     "data": {
      "text/plain": [
       "array([[ 0,  1,  2,  3],\n",
       "       [ 4,  5,  6,  7],\n",
       "       [ 8,  9, 10, 11]])"
      ]
     },
     "execution_count": 246,
     "metadata": {},
     "output_type": "execute_result"
    }
   ],
   "source": [
    "# 0부터 11까지 숫자를 생성한 뒤 , 3행 4열로 바꾸세요\n",
    "print(np.arange(0,12))\n",
    "a = np.arange(0,12).reshape(3,4)\n",
    "a"
   ]
  },
  {
   "cell_type": "code",
   "execution_count": 248,
   "id": "8c9d19f9-e485-45d3-b51f-76503ccd1c34",
   "metadata": {},
   "outputs": [
    {
     "name": "stdout",
     "output_type": "stream",
     "text": [
      "[ 1  2  3  4  5  6  7  8  9 10 11 12 13 14 15 16]\n"
     ]
    },
    {
     "data": {
      "text/plain": [
       "array([[ 1,  2,  3,  4],\n",
       "       [ 5,  6,  7,  8],\n",
       "       [ 9, 10, 11, 12],\n",
       "       [13, 14, 15, 16]])"
      ]
     },
     "execution_count": 248,
     "metadata": {},
     "output_type": "execute_result"
    }
   ],
   "source": [
    "# 1부터 16까지 숫자를 생성한 뒤 , 4행 4열로 바꾸세요\n",
    "print(np.arange(1,17))\n",
    "a = np.arange(1,17).reshape(4,4)\n",
    "a"
   ]
  },
  {
   "cell_type": "code",
   "execution_count": 249,
   "id": "c4facb27-00e6-4631-925f-4b25246bd519",
   "metadata": {},
   "outputs": [
    {
     "name": "stdout",
     "output_type": "stream",
     "text": [
      "[ 1  2  3  4  5  6  7  8  9 10 11 12 13 14 15 16 17 18 19 20]\n"
     ]
    },
    {
     "data": {
      "text/plain": [
       "array([[ 1,  2,  3,  4],\n",
       "       [ 5,  6,  7,  8],\n",
       "       [ 9, 10, 11, 12],\n",
       "       [13, 14, 15, 16],\n",
       "       [17, 18, 19, 20]])"
      ]
     },
     "execution_count": 249,
     "metadata": {},
     "output_type": "execute_result"
    }
   ],
   "source": [
    "# 1부터 20까지 숫자를 생성한 뒤 , 5행 4열로 바꾸세요\n",
    "print(np.arange(1,21))\n",
    "a = np.arange(1,21).reshape(5,4)\n",
    "a"
   ]
  },
  {
   "cell_type": "code",
   "execution_count": 251,
   "id": "ccd13430-62a2-4879-b783-8139142028b3",
   "metadata": {},
   "outputs": [
    {
     "name": "stdout",
     "output_type": "stream",
     "text": [
      "[10 11 12 13 14 15 16 17 18 19 20 21 22 23 24 25]\n"
     ]
    },
    {
     "data": {
      "text/plain": [
       "array([[10, 11, 12, 13],\n",
       "       [14, 15, 16, 17],\n",
       "       [18, 19, 20, 21],\n",
       "       [22, 23, 24, 25]])"
      ]
     },
     "execution_count": 251,
     "metadata": {},
     "output_type": "execute_result"
    }
   ],
   "source": [
    "# 10부터 25까지 숫자를 생성한 뒤 , 4행 4열로 바꾸세요\n",
    "print(np.arange(10,26))\n",
    "a = np.arange(10,26).reshape(4,4)\n",
    "a"
   ]
  },
  {
   "cell_type": "markdown",
   "id": "47937077-d54e-444b-885a-826db4e36f90",
   "metadata": {},
   "source": [
    "3.3 난수를 생성하는 방법  \n",
    "난수란 ? 랜덤값"
   ]
  },
  {
   "cell_type": "code",
   "execution_count": 253,
   "id": "6850835a-cd7d-4375-a79e-064e8cd1613d",
   "metadata": {},
   "outputs": [
    {
     "data": {
      "text/plain": [
       "array([ 0.76331953, -0.66244098,  2.27624463,  1.8199107 ,  0.15888274,\n",
       "        0.92537702, -1.07795587,  1.21761406,  0.05632436, -0.10567703])"
      ]
     },
     "execution_count": 253,
     "metadata": {},
     "output_type": "execute_result"
    }
   ],
   "source": [
    "# 랜던값 만들기\n",
    "# 표준 정규 분포 : 표준 편차가 1인 그래프에서 랜덤값을 생성 (-3~3)\n",
    "# 랜덤값 10개 생성\n",
    "arr = np.random.standard_normal(size=10)\n",
    "arr"
   ]
  },
  {
   "cell_type": "code",
   "execution_count": 254,
   "id": "7a747699-d3b3-40b2-9c84-d12aba2461ee",
   "metadata": {},
   "outputs": [
    {
     "data": {
      "text/plain": [
       "array([0.59048081, 0.95668955, 0.15390112, 0.84471622, 0.25145442,\n",
       "       0.87495667, 0.93201986, 0.31448997, 0.01800989, 0.66529001])"
      ]
     },
     "execution_count": 254,
     "metadata": {},
     "output_type": "execute_result"
    }
   ],
   "source": [
    "# 균일 분포 : 범위 0~1 , 모든 값이 같은 확률로 나옴\n",
    "arr = np.random.uniform(size=10)\n",
    "arr"
   ]
  },
  {
   "cell_type": "code",
   "execution_count": 256,
   "id": "a133c218-1208-4a43-bb78-d866a11b8e8c",
   "metadata": {},
   "outputs": [
    {
     "data": {
      "text/plain": [
       "array([-0.7820033 , -1.53179741,  0.96686967,  0.90922785,  3.77358203])"
      ]
     },
     "execution_count": 256,
     "metadata": {},
     "output_type": "execute_result"
    }
   ],
   "source": [
    "# 표준정규분포에서 랜던값 5개를 생성하세요\n",
    "arr = np.random.standard_normal(size=5)\n",
    "arr"
   ]
  },
  {
   "cell_type": "code",
   "execution_count": 257,
   "id": "dc235a59-5f62-42f1-a763-e7175c389060",
   "metadata": {},
   "outputs": [
    {
     "data": {
      "text/plain": [
       "array([0.91211425, 0.65519914, 0.63617921, 0.4039061 , 0.45744436])"
      ]
     },
     "execution_count": 257,
     "metadata": {},
     "output_type": "execute_result"
    }
   ],
   "source": [
    "# 균일분포에서 랜덤값 5개를 생성하세요\n",
    "arr = np.random.uniform(size=5)\n",
    "arr"
   ]
  },
  {
   "cell_type": "markdown",
   "id": "3ce294a3-7bf6-4fd1-80c6-ebfd150ab7cb",
   "metadata": {},
   "source": [
    "3.4 유니버설 함수\n",
    "반복문 없이 배열 전체에 계산을 해주는 함수"
   ]
  },
  {
   "cell_type": "code",
   "execution_count": 258,
   "id": "6e281269-1496-42f3-8bfb-4806a5c5306a",
   "metadata": {},
   "outputs": [
    {
     "data": {
      "text/plain": [
       "array([0, 1, 2, 3, 4, 5, 6, 7, 8, 9])"
      ]
     },
     "execution_count": 258,
     "metadata": {},
     "output_type": "execute_result"
    }
   ],
   "source": [
    "# 0~9 숫자가 담린 1차원 배열 생성\n",
    "arr = np.arange(10)\n",
    "arr"
   ]
  },
  {
   "cell_type": "code",
   "execution_count": 260,
   "id": "e9994b69-c32c-4ed5-acb7-6e904bbdaeb1",
   "metadata": {},
   "outputs": [
    {
     "data": {
      "text/plain": [
       "array([ 3,  4,  5,  6,  7,  8,  9, 10, 11, 12])"
      ]
     },
     "execution_count": 260,
     "metadata": {},
     "output_type": "execute_result"
    }
   ],
   "source": [
    "# 파이썬의 리스트는 for 문 사용하여 계산해야함\n",
    "# 님파이의 배열은 fpr 문 없이 계산 가능\n",
    "# 배열 전체에 3더하기\n",
    "# add : 더하기\n",
    "np.add(arr,3)"
   ]
  },
  {
   "cell_type": "code",
   "execution_count": 266,
   "id": "df9908d4-19bb-4be9-b0be-0818bd8372b9",
   "metadata": {},
   "outputs": [
    {
     "data": {
      "text/plain": [
       "array([3, 4, 5, 6, 7])"
      ]
     },
     "execution_count": 266,
     "metadata": {},
     "output_type": "execute_result"
    }
   ],
   "source": [
    "a = np.array([1,2,3,4,5])\n",
    "b = np.array([3,4,5,6,7])\n",
    "\n",
    "# 두배열을 비교하여 더 큰값 저장하기\n",
    "np.maximum(a, b)"
   ]
  },
  {
   "cell_type": "markdown",
   "id": "e4e14204-67b3-4366-8497-8f7d3102cfb9",
   "metadata": {},
   "source": [
    "조건문"
   ]
  },
  {
   "cell_type": "code",
   "execution_count": 269,
   "id": "c441f1ed-e412-4784-815c-374489a5a0a9",
   "metadata": {},
   "outputs": [],
   "source": [
    "# 배열 두개 만들기\n",
    "a = np.array([1,2,3])\n",
    "b = np.array([10,20,30])\n",
    "# 불리언 배열 만들기 (조건)    \n",
    "cond = np.array ([True,True,False])"
   ]
  },
  {
   "cell_type": "code",
   "execution_count": 271,
   "id": "a297b0db-e689-4c14-982a-f94ab32a56c3",
   "metadata": {},
   "outputs": [
    {
     "data": {
      "text/plain": [
       "array([ 1,  2, 30])"
      ]
     },
     "execution_count": 271,
     "metadata": {},
     "output_type": "execute_result"
    }
   ],
   "source": [
    "# where (조건, 참일때 ,거짓일때) : 조건문 쓰기\n",
    "# 조건이 참이면 a 에서 값을 선택 , 거짓이면 b 에서 선택\n",
    "# where는 삼항연산자와 비슷\n",
    "\n",
    "result = np.where(cond,a,b)\n",
    "result "
   ]
  },
  {
   "cell_type": "code",
   "execution_count": 279,
   "id": "f1346d90-5864-424a-933c-ac4dbaa5d74c",
   "metadata": {},
   "outputs": [
    {
     "name": "stdout",
     "output_type": "stream",
     "text": [
      "[False False False  True  True]\n"
     ]
    },
    {
     "data": {
      "text/plain": [
       "array(['x', 'x', 'x', 'o', 'o'], dtype='<U1')"
      ]
     },
     "execution_count": 279,
     "metadata": {},
     "output_type": "execute_result"
    }
   ],
   "source": [
    "# 1차원 배열 생성\n",
    "arr = np.array([-2, -1 ,0 , 1, 2])\n",
    "\n",
    "# 양수면 'o' 음수면 'x' 로 반환\n",
    "# 조건 , 참일때 값 , 거짓일때값\n",
    "# 조건이 true 면 o , false 면 x 를 선택\n",
    "print(arr > 0 )\n",
    "np.where(arr > 0,'o','x')"
   ]
  },
  {
   "cell_type": "code",
   "execution_count": 286,
   "id": "1d1078ea-a32e-4bfc-861c-2b81baba0bf1",
   "metadata": {},
   "outputs": [
    {
     "name": "stdout",
     "output_type": "stream",
     "text": [
      "[False  True False  True False]\n",
      "[False  True  True  True False]\n",
      "[10  2 30  4 50]\n"
     ]
    }
   ],
   "source": [
    "# 배열 [5,12,7,20,3]에서\n",
    "# 10보다 크면 '100' , 10이하면 '0'으로 바꾸세요\n",
    "arr = np.array([5,12,7,20,3])\n",
    "print(arr > 10 )\n",
    "np.where(arr > 10,'100','0')\n",
    "\n",
    "# 배열 [15,8,22,6,13] 에서\n",
    "# 짝수면 1 , 홀수면 - 1로 바꾸세요\n",
    "arr = np.array([15,8,22,6,13])\n",
    "print(arr % 2 == 0  )\n",
    "np.where(arr % 2 == 0 ,'1','-1')\n",
    "\n",
    "# 배열 [10,20,30,40,50] 과 [1,2,3,4,5] 를 만들고\n",
    "# 조건 배열 [True,False,True,Falese,True] 를 사용해\n",
    "# 조건이 True 일때는 첫번재 배열 값 , False일때는 두번째 배열값을 선택하세요\n",
    "arr1 = np.array([10,20,30,40,50])\n",
    "arr2 = np.array([1,2,3,4,5])\n",
    "cond = np.array([True,False,True,False,True])\n",
    "result = np.where(cond, arr1, arr2)\n",
    "print(result)\n"
   ]
  },
  {
   "cell_type": "markdown",
   "id": "8915953a-d471-41cc-86d9-762b2a71788b",
   "metadata": {},
   "source": [
    "통계를 구할 때 자주 사용하는 함수들  \n",
    "(최대 최소 합계 평균)"
   ]
  },
  {
   "cell_type": "code",
   "execution_count": 290,
   "id": "7d09125e-0854-447f-a8bf-36d2ca096d9f",
   "metadata": {},
   "outputs": [
    {
     "name": "stdout",
     "output_type": "stream",
     "text": [
      "15\n",
      "3.0\n"
     ]
    }
   ],
   "source": [
    "# 파이썬 리스트 생성\n",
    "lis = [1,2,3,4,5]\n",
    "# 리스트의 총합을 구하세요\n",
    "sum = 0\n",
    "for i in lis:\n",
    "    sum = sum + i\n",
    "print(sum)\n",
    "# 리스트의 평균을 구하세요\n",
    "print(sum/len(lis))"
   ]
  },
  {
   "cell_type": "code",
   "execution_count": 294,
   "id": "17a7d7ec-9e0d-43b8-8e84-9f24cf6b40be",
   "metadata": {},
   "outputs": [
    {
     "name": "stdout",
     "output_type": "stream",
     "text": [
      "15\n",
      "3.0\n",
      "5\n",
      "1\n"
     ]
    }
   ],
   "source": [
    "# 넘파이 배열로 합계와 평균 구하기\n",
    "arr = np.array([1,2,3,4,5])\n",
    "print(np.sum(arr))\n",
    "print(np.mean(arr))\n",
    "# 배열에서 제일 큰 값\n",
    "print(np.max(arr))\n",
    "# 배열에서 제일 작은 값\n",
    "print(np.min(arr))"
   ]
  },
  {
   "cell_type": "code",
   "execution_count": 303,
   "id": "f09c82f3-3e7c-4346-b4d9-3241de056c6e",
   "metadata": {},
   "outputs": [
    {
     "name": "stdout",
     "output_type": "stream",
     "text": [
      "총: 1950 kcal\n",
      "평균: 487.5 kcal\n",
      "칼로리가 가장 높은 음식: 800 kcal\n",
      "칼로리가 가장 낮음 음식: 250 kcal\n"
     ]
    }
   ],
   "source": [
    "arr1=np.array([\"김밥\",\"라면\",\"떡볶이\",\"치킨\"])\n",
    "arr2=np.array([250,500,400,800])\n",
    "\n",
    "# 하루 먹은 음식의 총 kcal 은 ?\n",
    "print(\"총:\",np.sum(arr2),\"kcal\")\n",
    "\n",
    "# 음식 4개의 평균 kcal ?\n",
    "print(\"평균:\",np.mean(arr2),\"kcal\")\n",
    "\n",
    "# 칼로리가 가장 높은 음식은 몇 kcal ?\n",
    "print(\"칼로리가 가장 높은 음식:\",np.max(arr2),\"kcal\")\n",
    "\n",
    "# 칼로리가 가장 낮은 음식은 몇 kcal ?\n",
    "print(\"칼로리가 가장 낮음 음식:\",np.min(arr2),\"kcal\")"
   ]
  },
  {
   "cell_type": "code",
   "execution_count": 306,
   "id": "95ec2284-c746-40e0-8d09-0e76b2f6aa02",
   "metadata": {},
   "outputs": [
    {
     "name": "stdout",
     "output_type": "stream",
     "text": [
      "총 운동시간: 280 분\n",
      "하루 평균 운동시간: 40.0 분\n",
      "가장 오래 운동한날:  60 분\n",
      "가장 짧게 운동한날: 20 분\n"
     ]
    }
   ],
   "source": [
    "arr1=np.array([\"월\",\"화\",\"수\",\"목\",\"금\",\"토\",\"일\"])\n",
    "arr2=np.array([30,45,60,20,40,50,35])\n",
    "\n",
    "# 일주일동안 총 운동시간\n",
    "print(\"총 운동시간:\",np.sum(arr2),\"분\")\n",
    "# 하루 평균 운동 시간\n",
    "print(\"하루 평균 운동시간:\",np.mean(arr2),\"분\")\n",
    "# 가장 오래 운동한 날은 몇분 ?\n",
    "print(\"가장 오래 운동한날: \",np.max(arr2),\"분\")\n",
    "# 가장 짧게 운동한 날은 몇분 ?\n",
    "print(\"가장 짧게 운동한날:\",np.min(arr2),\"분\")"
   ]
  },
  {
   "cell_type": "markdown",
   "id": "229bd253-1393-44f4-b50c-1536f4d3a38e",
   "metadata": {},
   "source": [
    "행 / 열 단위로 합계 구하기"
   ]
  },
  {
   "cell_type": "code",
   "execution_count": 311,
   "id": "0580c963-e54c-482e-81f4-fcfbac905706",
   "metadata": {},
   "outputs": [
    {
     "data": {
      "text/plain": [
       "array([ 6, 15, 24])"
      ]
     },
     "execution_count": 311,
     "metadata": {},
     "output_type": "execute_result"
    }
   ],
   "source": [
    "arr = np.arange(1,10).reshape(3,3)\n",
    "arr\n",
    "# 배열의 합계 구하기\n",
    "arr.sum()\n",
    "# 2차원 배열에서 행 또는 열 방향으로 합 구하기\n",
    "# axis:0 -> 세로방향으로 합 계산\n",
    "arr.sum(axis=0)\n",
    "# axis:1 -> 가로방향으로 합 계산\n",
    "arr.sum(axis=1)"
   ]
  },
  {
   "cell_type": "code",
   "execution_count": 313,
   "id": "66f6398c-331f-48cb-a517-a4dc4f0ae866",
   "metadata": {},
   "outputs": [
    {
     "data": {
      "text/plain": [
       "array([ 1,  3,  6, 10, 15])"
      ]
     },
     "execution_count": 313,
     "metadata": {},
     "output_type": "execute_result"
    }
   ],
   "source": [
    "# 누적값 구하기 \n",
    "arr =np.array([1,2,3,4,5])\n",
    "arr.cumsum()"
   ]
  },
  {
   "cell_type": "code",
   "execution_count": 318,
   "id": "e98960d9-379f-4d5f-bf7c-a72d7986a304",
   "metadata": {},
   "outputs": [
    {
     "name": "stdout",
     "output_type": "stream",
     "text": [
      "[[0 1 2]\n",
      " [3 4 5]\n",
      " [6 7 8]]\n",
      "[[ 0  1  2]\n",
      " [ 3  5  7]\n",
      " [ 9 12 15]]\n",
      "[[ 0  1  3]\n",
      " [ 3  7 12]\n",
      " [ 6 13 21]]\n"
     ]
    }
   ],
   "source": [
    "# 2차원 배열 생성\n",
    "arr=np.array([[0,1,2],[3,4,5],[6,7,8]])\n",
    "print(arr)\n",
    "# 2차원 배열의 누적값 구하기\n",
    "# 기준 설정(세로방향, 위->아래)\n",
    "print(arr.cumsum(axis=0))\n",
    "# 가로방향 (왼쪽 -> 오른쪽)\n",
    "print(arr.cumsum(axis=1))"
   ]
  },
  {
   "cell_type": "code",
   "execution_count": null,
   "id": "d51cce17-b6d3-49a1-ba59-35e28ef425ef",
   "metadata": {},
   "outputs": [],
   "source": []
  }
 ],
 "metadata": {
  "kernelspec": {
   "display_name": "Python 3 (ipykernel)",
   "language": "python",
   "name": "python3"
  },
  "language_info": {
   "codemirror_mode": {
    "name": "ipython",
    "version": 3
   },
   "file_extension": ".py",
   "mimetype": "text/x-python",
   "name": "python",
   "nbconvert_exporter": "python",
   "pygments_lexer": "ipython3",
   "version": "3.10.18"
  }
 },
 "nbformat": 4,
 "nbformat_minor": 5
}
