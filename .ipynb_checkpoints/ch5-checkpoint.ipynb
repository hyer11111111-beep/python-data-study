{
 "cells": [
  {
   "cell_type": "markdown",
   "id": "984a7add-70f8-4392-b16a-5e95457a81a8",
   "metadata": {},
   "source": [
    "### 5. 데이터불러오기와 간단한 분석까지  "
   ]
  },
  {
   "cell_type": "code",
   "execution_count": 66,
   "id": "af5e186e-4969-4b20-9787-703947612012",
   "metadata": {},
   "outputs": [],
   "source": [
    "# 필요한 모듈 불러오기\n",
    "import numpy as np\n",
    "import pandas as pd"
   ]
  },
  {
   "cell_type": "markdown",
   "id": "fc0b098b-7ec8-475e-a7d1-737fe238ae3b",
   "metadata": {},
   "source": [
    "### 5.1 파일 다루기  \n",
    "<small>\n",
    "csv, json  <br>  \n",
    "</small>\n",
    "csv 파일 불러오기"
   ]
  },
  {
   "cell_type": "code",
   "execution_count": 4,
   "id": "44945c95-51db-4ddc-91b8-87d43eebfde6",
   "metadata": {},
   "outputs": [
    {
     "data": {
      "text/html": [
       "<div>\n",
       "<style scoped>\n",
       "    .dataframe tbody tr th:only-of-type {\n",
       "        vertical-align: middle;\n",
       "    }\n",
       "\n",
       "    .dataframe tbody tr th {\n",
       "        vertical-align: top;\n",
       "    }\n",
       "\n",
       "    .dataframe thead th {\n",
       "        text-align: right;\n",
       "    }\n",
       "</style>\n",
       "<table border=\"1\" class=\"dataframe\">\n",
       "  <thead>\n",
       "    <tr style=\"text-align: right;\">\n",
       "      <th></th>\n",
       "      <th>student_id</th>\n",
       "      <th>math</th>\n",
       "      <th>eng</th>\n",
       "      <th>kor</th>\n",
       "    </tr>\n",
       "  </thead>\n",
       "  <tbody>\n",
       "    <tr>\n",
       "      <th>0</th>\n",
       "      <td>101</td>\n",
       "      <td>80</td>\n",
       "      <td>95</td>\n",
       "      <td>88</td>\n",
       "    </tr>\n",
       "    <tr>\n",
       "      <th>1</th>\n",
       "      <td>102</td>\n",
       "      <td>92</td>\n",
       "      <td>85</td>\n",
       "      <td>90</td>\n",
       "    </tr>\n",
       "    <tr>\n",
       "      <th>2</th>\n",
       "      <td>103</td>\n",
       "      <td>75</td>\n",
       "      <td>80</td>\n",
       "      <td>66</td>\n",
       "    </tr>\n",
       "  </tbody>\n",
       "</table>\n",
       "</div>"
      ],
      "text/plain": [
       "   student_id  math  eng  kor\n",
       "0         101    80   95   88\n",
       "1         102    92   85   90\n",
       "2         103    75   80   66"
      ]
     },
     "execution_count": 4,
     "metadata": {},
     "output_type": "execute_result"
    }
   ],
   "source": [
    "# 판다스를 사용해서 csv 파일 불러오기\n",
    "# read_csv(파일의 경로)\n",
    "# 상대경로/절대경로\n",
    "# 현재 나의 위치 : python-data-study\n",
    "# 찾고자 하는 파일 : sample.csv\n",
    "# read_csv 는 csv 파일을 읽어서 데이터 프레임으로 반환\n",
    "df = pd.read_csv('sample/sample1.csv') # 상대경로\n",
    "df"
   ]
  },
  {
   "cell_type": "code",
   "execution_count": 6,
   "id": "af67ee25-ae15-4041-865b-349085e2979f",
   "metadata": {},
   "outputs": [
    {
     "name": "stdout",
     "output_type": "stream",
     "text": [
      "RangeIndex(start=0, stop=3, step=1)\n"
     ]
    },
    {
     "data": {
      "text/html": [
       "<div>\n",
       "<style scoped>\n",
       "    .dataframe tbody tr th:only-of-type {\n",
       "        vertical-align: middle;\n",
       "    }\n",
       "\n",
       "    .dataframe tbody tr th {\n",
       "        vertical-align: top;\n",
       "    }\n",
       "\n",
       "    .dataframe thead th {\n",
       "        text-align: right;\n",
       "    }\n",
       "</style>\n",
       "<table border=\"1\" class=\"dataframe\">\n",
       "  <thead>\n",
       "    <tr style=\"text-align: right;\">\n",
       "      <th></th>\n",
       "      <th>math</th>\n",
       "      <th>eng</th>\n",
       "      <th>kor</th>\n",
       "    </tr>\n",
       "    <tr>\n",
       "      <th>student_id</th>\n",
       "      <th></th>\n",
       "      <th></th>\n",
       "      <th></th>\n",
       "    </tr>\n",
       "  </thead>\n",
       "  <tbody>\n",
       "    <tr>\n",
       "      <th>101</th>\n",
       "      <td>80</td>\n",
       "      <td>95</td>\n",
       "      <td>88</td>\n",
       "    </tr>\n",
       "    <tr>\n",
       "      <th>102</th>\n",
       "      <td>92</td>\n",
       "      <td>85</td>\n",
       "      <td>90</td>\n",
       "    </tr>\n",
       "    <tr>\n",
       "      <th>103</th>\n",
       "      <td>75</td>\n",
       "      <td>80</td>\n",
       "      <td>66</td>\n",
       "    </tr>\n",
       "  </tbody>\n",
       "</table>\n",
       "</div>"
      ],
      "text/plain": [
       "            math  eng  kor\n",
       "student_id                \n",
       "101           80   95   88\n",
       "102           92   85   90\n",
       "103           75   80   66"
      ]
     },
     "execution_count": 6,
     "metadata": {},
     "output_type": "execute_result"
    }
   ],
   "source": [
    "# 읽어온 데이터 속성 확인\n",
    "# 행열 이름 확인\n",
    "print(df.index)\n",
    "df.columns\n",
    "# 행 인덱스 : 자동으로 정수 인덱스가 설정됨\n",
    "# 열 컬럼 : 자동으로 첫번쨰 행이 컬럼으로 설정됨\n",
    "# 학번을 인덱스로 설정\n",
    "df.set_index('student_id')"
   ]
  },
  {
   "cell_type": "markdown",
   "id": "86406698-c24f-4c0c-8867-b5bfd2983c09",
   "metadata": {},
   "source": [
    "cvs 파일 불러오기2"
   ]
  },
  {
   "cell_type": "code",
   "execution_count": 9,
   "id": "72d34787-acb8-496e-99ca-a55fabc89a1c",
   "metadata": {},
   "outputs": [
    {
     "name": "stdout",
     "output_type": "stream",
     "text": [
      "   상품명       가격  재고\n",
      "0  노트북  1200000   5\n",
      "1  키보드    29000  20\n",
      "2  마우스    19000  15\n",
      "RangeIndex(start=0, stop=3, step=1)\n",
      "Index(['상품명', '가격', '재고'], dtype='object')\n"
     ]
    }
   ],
   "source": [
    "# sample 폴더 아래 2번쨰 csv 파일 불러오기\n",
    "# 판다스 사용\n",
    "# read_csv (절대경로 또는 상대경로)\n",
    "# 현재 노트북 파일과 sample 폴더는 같은 경로에 있음\n",
    "# 파일에 한글이 포함되어 있으면 , 한글을 지원하는 인코딩 설정\n",
    "# 한글을 지원하는 인코딩 : utf-8,euc-kr\n",
    "df = pd.read_csv('sample/sample2.csv',encoding='euc-kr')\n",
    "print(df)\n",
    "# 나중에 데이터를 쉽게 조회/수정/삭제 하기 위해\n",
    "# 상품명을 행 인덱스로 설정 ! \n",
    "df.set_index('상품명')\n",
    "# 행/열 이름 확인\n",
    "print(df.index)\n",
    "print(df.columns)\n"
   ]
  },
  {
   "cell_type": "code",
   "execution_count": 13,
   "id": "e8b8f69f-7843-4ec7-bd8d-76ec7aa52ff1",
   "metadata": {},
   "outputs": [
    {
     "name": "stdout",
     "output_type": "stream",
     "text": [
      "   상품명       가격  재고\n",
      "0  노트북  1200000   5\n",
      "1  키보드    29000  20\n",
      "2  마우스    19000  15\n"
     ]
    }
   ],
   "source": [
    "# 다시 2번쨰 csv 파일 불러오기\n",
    "# cvs 파일에 한글이 포함이 되어있으면, 한글 인코딩 설정 필요\n",
    "# reda_csv(파일이름 , [인코딩])\n",
    "df = pd.read_csv('sample/sample2.csv',encoding='euc-kr')\n",
    "print(df)\n",
    "# 상품명 컬럼을 유지하면서\n",
    "# 상품명을 행인덱스로 설정하기\n"
   ]
  },
  {
   "cell_type": "markdown",
   "id": "b0aee8d1-04f1-4823-b37b-a93ad9ac78e4",
   "metadata": {},
   "source": [
    "### 5.3 데이터베이스 연결하기  \n",
    "<small>설치형 데이터 베이스 : mpsql,oracle..<br>\n",
    "파일형 데이터 베이스는 sqlite<br>\n",
    "파일형 데이터 베이스는 파일만 있으면 어디서든 열 수 있따 ! <br> </small>"
   ]
  },
  {
   "cell_type": "markdown",
   "id": "3c6590d5-a7fe-4197-98d6-e6efdfbeb632",
   "metadata": {},
   "source": [
    "데이터 베이스 연결 및 테이블 생성"
   ]
  },
  {
   "cell_type": "code",
   "execution_count": 57,
   "id": "8f00dd0d-dc5c-4d91-8ddb-05d29c3c7a6e",
   "metadata": {},
   "outputs": [],
   "source": [
    "# 모듈 불러오기\n",
    "import sqlite3"
   ]
  },
  {
   "cell_type": "code",
   "execution_count": 58,
   "id": "771b57c2-ad8a-44ca-880e-65577448c5d9",
   "metadata": {},
   "outputs": [],
   "source": [
    "# 데이터베이스 연결 또는 생성\n",
    "# commect(데이터 베이스 이름)\n",
    "con = sqlite3.connect('mydata.sqlite')"
   ]
  },
  {
   "cell_type": "code",
   "execution_count": 60,
   "id": "a4b943d3-a07a-4c2a-88f7-cf79216132bf",
   "metadata": {},
   "outputs": [],
   "source": [
    "# 학생의 정보를 저장할 테이블 생성\n",
    "# 데이터 베이스 명령 : sql(쿼리)\n",
    "# create\n",
    "# insert select update delete\n",
    "# con.execute('CREATE TABLE student(id INTEGER, name TEXT, age INTEGER)')\n",
    "# 테이블에 데이터 추가\n",
    "con.execute(\"INSERT INTO student VALUES (1,'둘리',25)\")\n",
    "con.execute(\"INSERT INTO student VALUES (2,'도우너',30)\")\n",
    "con.commit()"
   ]
  },
  {
   "cell_type": "markdown",
   "id": "0d017eb5-ef08-4182-95cd-646944b6206a",
   "metadata": {},
   "source": [
    "단건 데이터 조회\n"
   ]
  },
  {
   "cell_type": "code",
   "execution_count": 62,
   "id": "39be2a0c-6125-4080-bee9-6a06fb1ff1d6",
   "metadata": {},
   "outputs": [
    {
     "data": {
      "text/plain": [
       "(1, '둘리', 25)"
      ]
     },
     "execution_count": 62,
     "metadata": {},
     "output_type": "execute_result"
    }
   ],
   "source": [
    "# 1번 학생만 조회\n",
    "cur = con.execute('SELECT * FROM student WHERE id = 1')\n",
    "# 쿼리 결과 확인\n",
    "row = cur.fetchone()\n",
    "row"
   ]
  },
  {
   "cell_type": "markdown",
   "id": "1cd684ac-168a-42e1-b270-f28197e33c88",
   "metadata": {},
   "source": [
    "#### 5.3 공공테이터 활용하기  \n",
    "인천 지역의 9/14 날씨 데이터 가져오기"
   ]
  },
  {
   "cell_type": "code",
   "execution_count": 79,
   "id": "5492ceff-57fb-44d2-b5a1-8b97449f3dca",
   "metadata": {},
   "outputs": [
    {
     "data": {
      "text/plain": [
       "Index(['지점', '지점명', '일시', '기온', '습도'], dtype='object')"
      ]
     },
     "execution_count": 79,
     "metadata": {},
     "output_type": "execute_result"
    }
   ],
   "source": [
    "# csv 파일을 읽어서 데이터 프레임으로 반환\n",
    "df = pd.read_csv('sample/OBS_ASOS_TIM_20250916161050.csv',encoding ='euc-kr')\n",
    "# 행열 이름은 자동으로 설정\n",
    "# 행은 정수, 열은 csv 의 첫번째 행\n",
    "df.columns"
   ]
  },
  {
   "cell_type": "markdown",
   "id": "f17bdf20-4fc7-4b51-92e9-60f0141db7dc",
   "metadata": {},
   "source": [
    "하루 평균 기온과 습도 구하기"
   ]
  },
  {
   "cell_type": "code",
   "execution_count": 82,
   "id": "cb34e769-b7d2-4e50-82ea-2ace12a77c4b",
   "metadata": {},
   "outputs": [
    {
     "name": "stdout",
     "output_type": "stream",
     "text": [
      "9/14 평균 기온 : 24(c)\n",
      "9/14 평균 습도 : 78(%)\n"
     ]
    }
   ],
   "source": [
    "# 기온\n",
    "avg1 = int(df['기온'].mean())\n",
    "avg2 = int(df['습도'].mean())\n",
    "print(f'9/14 평균 기온 : {avg1}(c)')\n",
    "print(f'9/14 평균 습도 : {avg2}(%)')"
   ]
  },
  {
   "cell_type": "markdown",
   "id": "fca003ea-17e8-4728-85e9-08f0f8899c35",
   "metadata": {},
   "source": [
    "하루중에 제일 더웠던 시간은 ?"
   ]
  },
  {
   "cell_type": "code",
   "execution_count": 89,
   "id": "694e7245-5a29-4453-829e-ec12651016fc",
   "metadata": {},
   "outputs": [
    {
     "data": {
      "text/plain": [
       "지점                  112\n",
       "지점명                  인천\n",
       "일시     2025-09-14 15:00\n",
       "기온                 27.7\n",
       "습도                   65\n",
       "Name: 14, dtype: object"
      ]
     },
     "execution_count": 89,
     "metadata": {},
     "output_type": "execute_result"
    }
   ],
   "source": [
    "# idmax : 가장 큰 값이 포함되어 있는 행의 번호\n",
    "i = df['기온'].idxmax()\n",
    "# 현재 행의 이름과 위치가 같음\n",
    "df.loc[i]"
   ]
  },
  {
   "cell_type": "code",
   "execution_count": null,
   "id": "ad09dc6f-5ebd-444b-8dbf-9b67585ef430",
   "metadata": {},
   "outputs": [],
   "source": []
  }
 ],
 "metadata": {
  "kernelspec": {
   "display_name": "Python 3 (ipykernel)",
   "language": "python",
   "name": "python3"
  },
  "language_info": {
   "codemirror_mode": {
    "name": "ipython",
    "version": 3
   },
   "file_extension": ".py",
   "mimetype": "text/x-python",
   "name": "python",
   "nbconvert_exporter": "python",
   "pygments_lexer": "ipython3",
   "version": "3.10.18"
  }
 },
 "nbformat": 4,
 "nbformat_minor": 5
}
