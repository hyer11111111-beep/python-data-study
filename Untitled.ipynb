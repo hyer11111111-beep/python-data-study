{
 "cells": [
  {
   "cell_type": "code",
   "execution_count": null,
   "id": "a0d8f5e2-fc7b-4691-86d0-c92e286a924e",
   "metadata": {},
   "outputs": [],
   "source": []
  }
 ],
 "metadata": {
  "kernelspec": {
   "display_name": "",
   "name": ""
  },
  "language_info": {
   "name": ""
  }
 },
 "nbformat": 4,
 "nbformat_minor": 5
}
